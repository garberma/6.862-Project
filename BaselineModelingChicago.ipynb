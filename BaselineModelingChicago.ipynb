{
 "cells": [
  {
   "cell_type": "code",
   "execution_count": 61,
   "metadata": {},
   "outputs": [],
   "source": [
    "import numpy as np\n",
    "import pandas as pd\n",
    "from sklearn.preprocessing import StandardScaler\n",
    "from sklearn.linear_model import LinearRegression\n",
    "from sklearn.linear_model import Ridge\n",
    "from sklearn.tree import DecisionTreeRegressor\n",
    "from sklearn.ensemble import RandomForestRegressor\n",
    "from sklearn.ensemble import GradientBoostingRegressor\n",
    "from sklearn.model_selection import TimeSeriesSplit\n",
    "from sklearn import tree\n",
    "from sklearn import metrics\n",
    "from matplotlib.patches import Patch\n",
    "import matplotlib.pyplot as plt"
   ]
  },
  {
   "cell_type": "code",
   "execution_count": 15,
   "metadata": {},
   "outputs": [],
   "source": [
    "path = \"/Users/zachgarberman/Desktop/Applied ML/Project Data/\"\n",
    "df = pd.read_csv(path + 'chicago_df.csv')"
   ]
  },
  {
   "cell_type": "markdown",
   "metadata": {},
   "source": [
    "One-Hot Encode, Test/Train Split"
   ]
  },
  {
   "cell_type": "code",
   "execution_count": 21,
   "metadata": {},
   "outputs": [],
   "source": [
    "description_oh = pd.get_dummies(df['description'], drop_first = True)\n",
    "weekday_oh = pd.get_dummies(df['dayofweek'], drop_first = True)\n",
    "month_oh = pd.get_dummies(df['month'], drop_first = True, prefix=\"Month\")\n",
    "df_2 = pd.concat([df,description_oh,weekday_oh,month_oh],axis = 1)\n",
    "df_2 = df_2.drop(['description','dayofweek','month'],axis=1)"
   ]
  },
  {
   "cell_type": "code",
   "execution_count": 23,
   "metadata": {},
   "outputs": [],
   "source": [
    "X = df_2.iloc[:,2:]\n",
    "y = df_2.iloc[:,0:1]"
   ]
  },
  {
   "cell_type": "code",
   "execution_count": 24,
   "metadata": {},
   "outputs": [],
   "source": [
    "X_train = X.iloc[0:int(0.70*len(X)),]\n",
    "y_train = y.iloc[0:int(0.70*len(X)),]\n",
    "X_test = X.iloc[int(0.70*len(X)):,]\n",
    "y_test = y.iloc[int(0.70*len(X)):,]"
   ]
  },
  {
   "cell_type": "markdown",
   "metadata": {},
   "source": [
    "Linear Regression"
   ]
  },
  {
   "cell_type": "code",
   "execution_count": 63,
   "metadata": {},
   "outputs": [
    {
     "data": {
      "text/plain": [
       "LinearRegression()"
      ]
     },
     "execution_count": 63,
     "metadata": {},
     "output_type": "execute_result"
    }
   ],
   "source": [
    "reg = LinearRegression()\n",
    "reg.fit(X_train,y_train)"
   ]
  },
  {
   "cell_type": "code",
   "execution_count": 66,
   "metadata": {},
   "outputs": [
    {
     "name": "stdout",
     "output_type": "stream",
     "text": [
      "IS-R^2: 0.6754647783701148\n",
      "OS-R^2: 0.4528258298887585\n",
      "IS-MAE: 903.784127476423\n",
      "OS-MAE: 1058.417216818175\n",
      "IS-MSE: 1394712.4914335045\n",
      "OS-MSE: 1981708.5217724806\n"
     ]
    }
   ],
   "source": [
    "m1,n1 = y_test.shape\n",
    "m2,n2 = y_train.shape\n",
    "y_test_pred = reg.predict(X_test).reshape((m1,n1))\n",
    "y_train_pred = reg.predict(X_train).reshape((m2,n2))\n",
    "SSR = np.sum((y_test.to_numpy() - y_test_pred)**2)\n",
    "train_mean = np.mean(y_train.to_numpy())\n",
    "SST = np.sum((train_mean - y_test_pred)**2)\n",
    "OSR2 = 1 - (SSR/SST)\n",
    "print(\"IS-R^2:\",metrics.r2_score(y_train.to_numpy(),y_train_pred))\n",
    "print(\"OS-R^2:\",OSR2)\n",
    "print(\"IS-MAE:\",metrics.mean_absolute_error(y_train,y_train_pred))\n",
    "print(\"OS-MAE:\",metrics.mean_absolute_error(y_test,y_test_pred))\n",
    "print(\"IS-MSE:\",metrics.mean_squared_error(y_train,y_train_pred))\n",
    "print(\"OS-MSE:\",metrics.mean_squared_error(y_test,y_test_pred))"
   ]
  },
  {
   "cell_type": "markdown",
   "metadata": {},
   "source": [
    "Cross-Validated Ridge Regression"
   ]
  },
  {
   "cell_type": "code",
   "execution_count": 51,
   "metadata": {},
   "outputs": [],
   "source": [
    "scaler = StandardScaler()\n",
    "scaler.fit(X_train)\n",
    "ridge_train = pd.DataFrame(scaler.transform(X_train))\n",
    "ridge_test = pd.DataFrame(scaler.transform(X_test))"
   ]
  },
  {
   "cell_type": "code",
   "execution_count": 52,
   "metadata": {},
   "outputs": [],
   "source": [
    "tscv = TimeSeriesSplit(n_splits=5)\n",
    "i = 1\n",
    "score = []\n",
    "for tr_index, val_index in tscv.split(ridge_train):\n",
    "    X_tr, X_val = ridge_train.iloc[tr_index,:], ridge_train.iloc[val_index,:]\n",
    "    y_tr, y_val = y_train.iloc[tr_index,:], y_train.iloc[val_index,:]\n",
    "    for penalty in [10,5,2,1,0.1,0.01]:\n",
    "        clf = Ridge(alpha=penalty)\n",
    "        clf.fit(X_tr, y_tr)\n",
    "        m,n = y_val.shape\n",
    "        y_val_pred = clf.predict(X_val).reshape((m,n))\n",
    "        SSR = np.sum((y_val.to_numpy() - y_val_pred)**2)\n",
    "        train_mean = np.mean(y_tr.to_numpy())\n",
    "        SST = np.sum((train_mean - y_val_pred)**2)\n",
    "        OSR2 = 1 - (SSR/SST)\n",
    "        score.append([i,\n",
    "                      penalty,\n",
    "                      OSR2])\n",
    "    i += 1"
   ]
  },
  {
   "cell_type": "code",
   "execution_count": 53,
   "metadata": {},
   "outputs": [
    {
     "name": "stdout",
     "output_type": "stream",
     "text": [
      "   Lambda      OSR2\n",
      "0    0.01  0.432875\n"
     ]
    }
   ],
   "source": [
    "score = pd.DataFrame(score).rename(columns={0: \"Iteration\", 1: \"Lambda\",2:\"OSR2\"})\n",
    "cross_val = score.groupby(['Lambda']).agg({'OSR2':'mean'}).reset_index()\n",
    "print(cross_val[cross_val.OSR2 == cross_val.OSR2.max()])"
   ]
  },
  {
   "cell_type": "code",
   "execution_count": 62,
   "metadata": {},
   "outputs": [
    {
     "name": "stdout",
     "output_type": "stream",
     "text": [
      "IS-R^2: 0.6754647783693333\n",
      "OS-R^2: 0.4528253009092639\n",
      "IS-MAE: 903.7840896710281\n",
      "OS-MAE: 1058.4171879519772\n",
      "IS-MSE: 1394712.4914368629\n",
      "OS-MSE: 1981708.7437899027\n"
     ]
    }
   ],
   "source": [
    "ridge = Ridge(alpha=0.01).fit(ridge_train, y_train)\n",
    "m1,n1 = y_test.shape\n",
    "m2,n2 = y_train.shape\n",
    "y_test_pred = ridge.predict(ridge_test).reshape((m1,n1))\n",
    "y_train_pred = ridge.predict(ridge_train).reshape((m2,n2))\n",
    "SSR = np.sum((y_test.to_numpy() - y_test_pred)**2)\n",
    "train_mean = np.mean(y_train.to_numpy())\n",
    "SST = np.sum((train_mean - y_test_pred)**2)\n",
    "OSR2 = 1 - (SSR/SST)\n",
    "print(\"IS-R^2:\",metrics.r2_score(y_train.to_numpy(),y_train_pred))\n",
    "print(\"OS-R^2:\",OSR2)\n",
    "print(\"IS-MAE:\",metrics.mean_absolute_error(y_train,y_train_pred))\n",
    "print(\"OS-MAE:\",metrics.mean_absolute_error(y_test,y_test_pred))\n",
    "print(\"IS-MSE:\",metrics.mean_squared_error(y_train,y_train_pred))\n",
    "print(\"OS-MSE:\",metrics.mean_squared_error(y_test,y_test_pred))"
   ]
  },
  {
   "cell_type": "markdown",
   "metadata": {},
   "source": [
    "Cross-Validated CART"
   ]
  },
  {
   "cell_type": "code",
   "execution_count": 97,
   "metadata": {},
   "outputs": [],
   "source": [
    "tscv = TimeSeriesSplit(n_splits=5)\n",
    "i = 1\n",
    "score = []\n",
    "for tr_index, val_index in tscv.split(X_train):\n",
    "    X_tr, X_val = X_train.iloc[tr_index,:], X_train.iloc[val_index,:]\n",
    "    y_tr, y_val = y_train.iloc[tr_index,:], y_train.iloc[val_index,:]\n",
    "    for md in [2,4,6,8,10]:\n",
    "        for mb in [100,150,200]:\n",
    "            for alpha in [100,10,1,0.1]:\n",
    "                cart = DecisionTreeRegressor(\n",
    "                    max_depth=md,\n",
    "                    min_samples_leaf=mb,\n",
    "                    criterion = \"mse\",\n",
    "                    ccp_alpha = alpha)\n",
    "                cart.fit(X_tr, y_tr)\n",
    "                m,n = y_val.shape\n",
    "                y_val_pred = cart.predict(X_val).reshape((m,n))\n",
    "                SSR = np.sum((y_val.to_numpy() - y_val_pred)**2)\n",
    "                train_mean = np.mean(y_tr.to_numpy())\n",
    "                SST = np.sum((train_mean - y_val_pred)**2)\n",
    "                OSR2 = 1 - (SSR/SST)\n",
    "                score.append([i,\n",
    "                            md,\n",
    "                            mb,\n",
    "                            alpha, \n",
    "                            OSR2])\n",
    "    i += 1"
   ]
  },
  {
   "cell_type": "code",
   "execution_count": 98,
   "metadata": {},
   "outputs": [
    {
     "name": "stdout",
     "output_type": "stream",
     "text": [
      "    Depth  Alpha  MinBucket      OSR2\n",
      "48     10    0.1        100  0.512091\n",
      "51     10    1.0        100  0.512091\n",
      "54     10   10.0        100  0.512091\n"
     ]
    }
   ],
   "source": [
    "score = pd.DataFrame(score).rename(columns={0: \"Iteration\", 1: \"Depth\",2:\"MinBucket\", 3:\"Alpha\", 4:\"OSR2\"})\n",
    "cross_val = score.groupby(['Depth','Alpha','MinBucket']).agg({'OSR2':'mean'}).reset_index()\n",
    "print(cross_val[cross_val.OSR2 == cross_val.OSR2.max()])"
   ]
  },
  {
   "cell_type": "code",
   "execution_count": 104,
   "metadata": {},
   "outputs": [
    {
     "name": "stdout",
     "output_type": "stream",
     "text": [
      "IS-R^2: 0.8509216798765165\n",
      "OS-R^2: 0.7997954708155872\n",
      "IS-MAE: 548.0030996610357\n",
      "OS-MAE: 687.7669774648791\n",
      "IS-MSE: 640674.3595777359\n",
      "OS-MSE: 1009089.794934767\n"
     ]
    }
   ],
   "source": [
    "reg = DecisionTreeRegressor(max_depth=10,min_samples_leaf=100,ccp_alpha=10).fit(X_train, y_train)\n",
    "m1,n1 = y_test.shape\n",
    "m2,n2 = y_train.shape\n",
    "y_test_pred = reg.predict(X_test).reshape((m1,n1))\n",
    "y_train_pred = reg.predict(X_train).reshape((m2,n2))\n",
    "SSR = np.sum((y_test.to_numpy() - y_test_pred)**2)\n",
    "train_mean = np.mean(y_train.to_numpy())\n",
    "SST = np.sum((train_mean - y_test_pred)**2)\n",
    "OSR2 = 1 - (SSR/SST)\n",
    "print(\"IS-R^2:\",metrics.r2_score(y_train.to_numpy(),y_train_pred))\n",
    "print(\"OS-R^2:\",OSR2)\n",
    "print(\"IS-MAE:\",metrics.mean_absolute_error(y_train,y_train_pred))\n",
    "print(\"OS-MAE:\",metrics.mean_absolute_error(y_test,y_test_pred))\n",
    "print(\"IS-MSE:\",metrics.mean_squared_error(y_train,y_train_pred))\n",
    "print(\"OS-MSE:\",metrics.mean_squared_error(y_test,y_test_pred))"
   ]
  },
  {
   "cell_type": "markdown",
   "metadata": {},
   "source": [
    "Cross-Validated Gradient Boosted Trees"
   ]
  },
  {
   "cell_type": "code",
   "execution_count": 113,
   "metadata": {},
   "outputs": [
    {
     "data": {
      "text/plain": [
       "GradientBoostingRegressor()"
      ]
     },
     "execution_count": 113,
     "metadata": {},
     "output_type": "execute_result"
    }
   ],
   "source": [
    "reg = GradientBoostingRegressor()\n",
    "reg.fit(X_tr, np.ravel(y_tr))"
   ]
  },
  {
   "cell_type": "code",
   "execution_count": 114,
   "metadata": {},
   "outputs": [],
   "source": [
    "tscv = TimeSeriesSplit(n_splits=5)\n",
    "i = 1\n",
    "score = []\n",
    "for tr_index, val_index in tscv.split(X_train):\n",
    "    X_tr, X_val = X_train.iloc[tr_index,:], X_train.iloc[val_index,:]\n",
    "    y_tr, y_val = y_train.iloc[tr_index,:], y_train.iloc[val_index,:]\n",
    "    for lr in [0.1,0.01,0.001]:\n",
    "        for trees in [50,100,150]:\n",
    "            for md in [3,5,7]:\n",
    "                for features in [\"auto\",\"sqrt\",\"log2\"]:\n",
    "                    reg = GradientBoostingRegressor(\n",
    "                        learning_rate=lr,\n",
    "                        n_estimators=trees,\n",
    "                        max_depth=md,\n",
    "                        max_features=features)\n",
    "                    reg.fit(X_tr, np.ravel(y_tr))\n",
    "                    m,n = y_val.shape\n",
    "                    y_val_pred = reg.predict(X_val).reshape((m,n))\n",
    "                    SSR = np.sum((y_val.to_numpy() - y_val_pred)**2)\n",
    "                    train_mean = np.mean(y_tr.to_numpy())\n",
    "                    SST = np.sum((train_mean - y_val_pred)**2)\n",
    "                    OSR2 = 1 - (SSR/SST)\n",
    "                    score.append([i,\n",
    "                                lr,\n",
    "                                trees,\n",
    "                                md, \n",
    "                                features,\n",
    "                                OSR2])\n",
    "    i += 1"
   ]
  },
  {
   "cell_type": "code",
   "execution_count": 115,
   "metadata": {},
   "outputs": [
    {
     "name": "stdout",
     "output_type": "stream",
     "text": [
      "    LearningRate  Trees  Depth Features      OSR2\n",
      "72           0.1    150      3     auto  0.654557\n"
     ]
    }
   ],
   "source": [
    "score = pd.DataFrame(score).rename(columns={0: \"Iteration\", 1: \"LearningRate\",2:\"Trees\", \n",
    "                                            3:\"Depth\", 4:\"Features\", 5:\"OSR2\"})\n",
    "cross_val = score.groupby(['LearningRate','Trees','Depth','Features']).agg({'OSR2':'mean'}).reset_index()\n",
    "print(cross_val[cross_val.OSR2 == cross_val.OSR2.max()])"
   ]
  },
  {
   "cell_type": "code",
   "execution_count": 116,
   "metadata": {},
   "outputs": [
    {
     "name": "stdout",
     "output_type": "stream",
     "text": [
      "IS-R^2: 0.9096533617573482\n",
      "OS-R^2: 0.8801169822364056\n",
      "IS-MAE: 434.2064011733681\n",
      "OS-MAE: 520.7473646031666\n",
      "IS-MSE: 388270.9071860162\n",
      "OS-MSE: 583056.3815465791\n"
     ]
    }
   ],
   "source": [
    "reg = GradientBoostingRegressor(learning_rate=0.1, n_estimators=150, max_depth=3, \n",
    "                                max_features='auto').fit(X_train, np.ravel(y_train))\n",
    "m1,n1 = y_test.shape\n",
    "m2,n2 = y_train.shape\n",
    "y_test_pred = reg.predict(X_test).reshape((m1,n1))\n",
    "y_train_pred = reg.predict(X_train).reshape((m2,n2))\n",
    "SSR = np.sum((y_test.to_numpy() - y_test_pred)**2)\n",
    "train_mean = np.mean(y_train.to_numpy())\n",
    "SST = np.sum((train_mean - y_test_pred)**2)\n",
    "OSR2 = 1 - (SSR/SST)\n",
    "print(\"IS-R^2:\",metrics.r2_score(y_train.to_numpy(),y_train_pred))\n",
    "print(\"OS-R^2:\",OSR2)\n",
    "print(\"IS-MAE:\",metrics.mean_absolute_error(y_train,y_train_pred))\n",
    "print(\"OS-MAE:\",metrics.mean_absolute_error(y_test,y_test_pred))\n",
    "print(\"IS-MSE:\",metrics.mean_squared_error(y_train,y_train_pred))\n",
    "print(\"OS-MSE:\",metrics.mean_squared_error(y_test,y_test_pred))"
   ]
  },
  {
   "cell_type": "markdown",
   "metadata": {},
   "source": [
    "Cross-Validated Random Forest"
   ]
  },
  {
   "cell_type": "code",
   "execution_count": 120,
   "metadata": {},
   "outputs": [],
   "source": [
    "tscv = TimeSeriesSplit(n_splits=5)\n",
    "i = 1\n",
    "score = []\n",
    "for tr_index, val_index in tscv.split(X_train):\n",
    "    X_tr, X_val = X_train.iloc[tr_index,:], X_train.iloc[val_index,:]\n",
    "    y_tr, y_val = y_train.iloc[tr_index,:], y_train.iloc[val_index,:]\n",
    "    for mb in [100,150,200]:\n",
    "        for trees in [50,100,150]:\n",
    "            for md in [2,4,6,8,10]:\n",
    "                for features in [\"auto\",\"sqrt\",\"log2\"]:\n",
    "                    reg = RandomForestRegressor(\n",
    "                        min_samples_leaf=mb,\n",
    "                        n_estimators=trees,\n",
    "                        max_depth=md,\n",
    "                        max_features=features)\n",
    "                    reg.fit(X_tr, np.ravel(y_tr))\n",
    "                    m,n = y_val.shape\n",
    "                    y_val_pred = reg.predict(X_val).reshape((m,n))\n",
    "                    SSR = np.sum((y_val.to_numpy() - y_val_pred)**2)\n",
    "                    train_mean = np.mean(y_tr.to_numpy())\n",
    "                    SST = np.sum((train_mean - y_val_pred)**2)\n",
    "                    OSR2 = 1 - (SSR/SST)\n",
    "                    score.append([i,\n",
    "                                mb,\n",
    "                                trees,\n",
    "                                md, \n",
    "                                features,\n",
    "                                OSR2])\n",
    "    i += 1"
   ]
  },
  {
   "cell_type": "code",
   "execution_count": 121,
   "metadata": {},
   "outputs": [
    {
     "name": "stdout",
     "output_type": "stream",
     "text": [
      "   MinBucket  Trees  Depth Features      OSR2\n",
      "9        100     50      8     auto  0.451035\n"
     ]
    }
   ],
   "source": [
    "score = pd.DataFrame(score).rename(columns={0: \"Iteration\", 1: \"MinBucket\",2:\"Trees\", \n",
    "                                            3:\"Depth\", 4:\"Features\", 5:\"OSR2\"})\n",
    "cross_val = score.groupby(['MinBucket','Trees','Depth','Features']).agg({'OSR2':'mean'}).reset_index()\n",
    "print(cross_val[cross_val.OSR2 == cross_val.OSR2.max()])"
   ]
  },
  {
   "cell_type": "code",
   "execution_count": 122,
   "metadata": {},
   "outputs": [
    {
     "name": "stdout",
     "output_type": "stream",
     "text": [
      "IS-R^2: 0.8480348046803088\n",
      "OS-R^2: 0.8071518791138006\n",
      "IS-MAE: 560.9355658487257\n",
      "OS-MAE: 670.1637724481656\n",
      "IS-MSE: 653080.9047814863\n",
      "OS-MSE: 907870.3763925481\n"
     ]
    }
   ],
   "source": [
    "reg = RandomForestRegressor(min_samples_leaf=100, n_estimators=50, max_depth=8, \n",
    "                                max_features='auto').fit(X_train, np.ravel(y_train))\n",
    "m1,n1 = y_test.shape\n",
    "m2,n2 = y_train.shape\n",
    "y_test_pred = reg.predict(X_test).reshape((m1,n1))\n",
    "y_train_pred = reg.predict(X_train).reshape((m2,n2))\n",
    "SSR = np.sum((y_test.to_numpy() - y_test_pred)**2)\n",
    "train_mean = np.mean(y_train.to_numpy())\n",
    "SST = np.sum((train_mean - y_test_pred)**2)\n",
    "OSR2 = 1 - (SSR/SST)\n",
    "print(\"IS-R^2:\",metrics.r2_score(y_train.to_numpy(),y_train_pred))\n",
    "print(\"OS-R^2:\",OSR2)\n",
    "print(\"IS-MAE:\",metrics.mean_absolute_error(y_train,y_train_pred))\n",
    "print(\"OS-MAE:\",metrics.mean_absolute_error(y_test,y_test_pred))\n",
    "print(\"IS-MSE:\",metrics.mean_squared_error(y_train,y_train_pred))\n",
    "print(\"OS-MSE:\",metrics.mean_squared_error(y_test,y_test_pred))"
   ]
  },
  {
   "cell_type": "code",
   "execution_count": null,
   "metadata": {},
   "outputs": [],
   "source": []
  }
 ],
 "metadata": {
  "kernelspec": {
   "display_name": "Python 3",
   "language": "python",
   "name": "python3"
  },
  "language_info": {
   "codemirror_mode": {
    "name": "ipython",
    "version": 3
   },
   "file_extension": ".py",
   "mimetype": "text/x-python",
   "name": "python",
   "nbconvert_exporter": "python",
   "pygments_lexer": "ipython3",
   "version": "3.8.5"
  }
 },
 "nbformat": 4,
 "nbformat_minor": 4
}
