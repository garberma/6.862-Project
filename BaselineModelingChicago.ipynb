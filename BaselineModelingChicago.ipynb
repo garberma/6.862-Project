{
 "cells": [
  {
   "cell_type": "code",
   "execution_count": 51,
   "metadata": {},
   "outputs": [],
   "source": [
    "import numpy as np\n",
    "import pandas as pd\n",
    "from sklearn.preprocessing import StandardScaler\n",
    "from sklearn.linear_model import LinearRegression\n",
    "from sklearn.linear_model import Ridge\n",
    "from sklearn.tree import DecisionTreeRegressor\n",
    "from sklearn.ensemble import RandomForestRegressor\n",
    "from sklearn.ensemble import GradientBoostingRegressor\n",
    "from sklearn.model_selection import TimeSeriesSplit\n",
    "from sklearn import tree\n",
    "from sklearn import metrics\n",
    "from matplotlib.patches import Patch\n",
    "import matplotlib.pyplot as plt\n",
    "from sklearn.inspection import permutation_importance"
   ]
  },
  {
   "cell_type": "code",
   "execution_count": 52,
   "metadata": {},
   "outputs": [],
   "source": [
    "#path = \"/Users/zachgarberman/Desktop/Applied ML/Project Data/\"\n",
    "path = \"/Users/pierre/Documents/Scolaire/MIT/Machine Learning/data/\"\n",
    "df = pd.read_csv(path + 'chicago_df.csv')"
   ]
  },
  {
   "cell_type": "code",
   "execution_count": 53,
   "metadata": {},
   "outputs": [],
   "source": [
    "df_lin = df.copy()\n",
    "df_lin['temperature'] = df_lin['temperature'] - 273.15\n",
    "df_lin['hour_sq'] = df_lin['hour']**2\n",
    "df_lin['hour_cub'] = df_lin['hour']**3\n",
    "df_lin['hour_fourth'] = df_lin['hour']**4\n",
    "df_lin['temperature_sq'] = df_lin['temperature']**2\n",
    "df_lin['temperature_cub'] = df_lin['temperature']**3"
   ]
  },
  {
   "cell_type": "markdown",
   "metadata": {},
   "source": [
    "One-Hot Encode, Test/Train Split"
   ]
  },
  {
   "cell_type": "code",
   "execution_count": 54,
   "metadata": {},
   "outputs": [],
   "source": [
    "description_oh = pd.get_dummies(df_lin['description'], drop_first = True)\n",
    "weekday_oh = pd.get_dummies(df_lin['dayofweek'], drop_first = True)\n",
    "month_oh = pd.get_dummies(df_lin['month'], drop_first = True, prefix=\"Month\")\n",
    "df_2 = pd.concat([df_lin,description_oh,weekday_oh,month_oh],axis = 1)\n",
    "df_2 = df_2.drop(['description','dayofweek','month'],axis=1)"
   ]
  },
  {
   "cell_type": "code",
   "execution_count": 55,
   "metadata": {},
   "outputs": [],
   "source": [
    "X = df_2.iloc[:,2:]\n",
    "y = df_2.iloc[:,0:1]"
   ]
  },
  {
   "cell_type": "code",
   "execution_count": 56,
   "metadata": {},
   "outputs": [],
   "source": [
    "X_train = X.iloc[0:int(0.70*len(X)),]\n",
    "y_train = y.iloc[0:int(0.70*len(X)),]\n",
    "X_test = X.iloc[int(0.70*len(X)):,]\n",
    "y_test = y.iloc[int(0.70*len(X)):,]"
   ]
  },
  {
   "cell_type": "code",
   "execution_count": 57,
   "metadata": {},
   "outputs": [],
   "source": [
    "cols = X_train.columns"
   ]
  },
  {
   "cell_type": "code",
   "execution_count": 58,
   "metadata": {},
   "outputs": [],
   "source": [
    "#X_train.to_csv(r'/Users/zachgarberman/Desktop/Applied ML/Project Data/Xtrain.csv', index = False)\n",
    "#y_train.to_csv(r'/Users/zachgarberman/Desktop/Applied ML/Project Data/ytrain.csv', index = False)\n",
    "#X_test.to_csv(r'/Users/zachgarberman/Desktop/Applied ML/Project Data/Xtest.csv', index = False)\n",
    "#y_test.to_csv(r'/Users/zachgarberman/Desktop/Applied ML/Project Data/ytest.csv', index = False)"
   ]
  },
  {
   "cell_type": "markdown",
   "metadata": {},
   "source": [
    "Linear Regression"
   ]
  },
  {
   "cell_type": "code",
   "execution_count": 59,
   "metadata": {},
   "outputs": [
    {
     "data": {
      "text/plain": [
       "LinearRegression()"
      ]
     },
     "execution_count": 59,
     "metadata": {},
     "output_type": "execute_result"
    }
   ],
   "source": [
    "reg = LinearRegression()\n",
    "reg.fit(X_train,y_train)"
   ]
  },
  {
   "cell_type": "code",
   "execution_count": 61,
   "metadata": {},
   "outputs": [
    {
     "name": "stdout",
     "output_type": "stream",
     "text": [
      "IS-R^2: 0.818618626331664\n",
      "OS-R^2: 0.8057756952280277\n",
      "OS-R^2: 0.8539488972842643\n",
      "IS-MAE: 658.610134747542\n",
      "OS-MAE: 704.1248464415561\n",
      "IS-RMSE: 882.8923827171346\n",
      "OS-RMSE: 938.1276042710257\n"
     ]
    }
   ],
   "source": [
    "m1,n1 = y_test.shape\n",
    "m2,n2 = y_train.shape\n",
    "y_test_pred = reg.predict(X_test).reshape((m1,n1))\n",
    "y_train_pred = reg.predict(X_train).reshape((m2,n2))\n",
    "SSR = np.sum((y_test.to_numpy() - y_test_pred)**2)\n",
    "train_mean = np.mean(y_train.to_numpy())\n",
    "SST = np.sum((train_mean - y_test_pred)**2)\n",
    "OSR2 = 1 - (SSR/SST)\n",
    "print(\"IS-R^2:\",metrics.r2_score(y_train.to_numpy(),y_train_pred))\n",
    "print(\"OS-R^2:\",OSR2)\n",
    "# Why aren't we doing that? #####\n",
    "print(\"OS-R^2:\",metrics.r2_score(y_test.to_numpy(),y_test_pred))\n",
    "########\n",
    "print(\"IS-MAE:\",metrics.mean_absolute_error(y_train,y_train_pred))\n",
    "print(\"OS-MAE:\",metrics.mean_absolute_error(y_test,y_test_pred))\n",
    "print(\"IS-RMSE:\",metrics.mean_squared_error(y_train,y_train_pred)**(1/2))\n",
    "print(\"OS-RMSE:\",metrics.mean_squared_error(y_test,y_test_pred)**(1/2))"
   ]
  },
  {
   "cell_type": "code",
   "execution_count": 109,
   "metadata": {},
   "outputs": [
    {
     "data": {
      "text/html": [
       "<div>\n",
       "<style scoped>\n",
       "    .dataframe tbody tr th:only-of-type {\n",
       "        vertical-align: middle;\n",
       "    }\n",
       "\n",
       "    .dataframe tbody tr th {\n",
       "        vertical-align: top;\n",
       "    }\n",
       "\n",
       "    .dataframe thead th {\n",
       "        text-align: right;\n",
       "    }\n",
       "</style>\n",
       "<table border=\"1\" class=\"dataframe\">\n",
       "  <thead>\n",
       "    <tr style=\"text-align: right;\">\n",
       "      <th></th>\n",
       "      <th>noise_amplitude</th>\n",
       "      <th>R2_mean</th>\n",
       "      <th>R2_std</th>\n",
       "    </tr>\n",
       "  </thead>\n",
       "  <tbody>\n",
       "    <tr>\n",
       "      <th>0</th>\n",
       "      <td>0.010000</td>\n",
       "      <td>0.805769</td>\n",
       "      <td>0.000226</td>\n",
       "    </tr>\n",
       "    <tr>\n",
       "      <th>1</th>\n",
       "      <td>0.231111</td>\n",
       "      <td>0.801951</td>\n",
       "      <td>0.004991</td>\n",
       "    </tr>\n",
       "    <tr>\n",
       "      <th>2</th>\n",
       "      <td>0.452222</td>\n",
       "      <td>0.792746</td>\n",
       "      <td>0.010574</td>\n",
       "    </tr>\n",
       "    <tr>\n",
       "      <th>3</th>\n",
       "      <td>0.673333</td>\n",
       "      <td>0.780368</td>\n",
       "      <td>0.016340</td>\n",
       "    </tr>\n",
       "    <tr>\n",
       "      <th>4</th>\n",
       "      <td>0.894444</td>\n",
       "      <td>0.758016</td>\n",
       "      <td>0.026539</td>\n",
       "    </tr>\n",
       "    <tr>\n",
       "      <th>5</th>\n",
       "      <td>1.115556</td>\n",
       "      <td>0.734095</td>\n",
       "      <td>0.028777</td>\n",
       "    </tr>\n",
       "    <tr>\n",
       "      <th>6</th>\n",
       "      <td>1.336667</td>\n",
       "      <td>0.703937</td>\n",
       "      <td>0.047114</td>\n",
       "    </tr>\n",
       "    <tr>\n",
       "      <th>7</th>\n",
       "      <td>1.557778</td>\n",
       "      <td>0.687908</td>\n",
       "      <td>0.044750</td>\n",
       "    </tr>\n",
       "    <tr>\n",
       "      <th>8</th>\n",
       "      <td>1.778889</td>\n",
       "      <td>0.648775</td>\n",
       "      <td>0.055222</td>\n",
       "    </tr>\n",
       "    <tr>\n",
       "      <th>9</th>\n",
       "      <td>2.000000</td>\n",
       "      <td>0.596079</td>\n",
       "      <td>0.083231</td>\n",
       "    </tr>\n",
       "  </tbody>\n",
       "</table>\n",
       "</div>"
      ],
      "text/plain": [
       "   noise_amplitude   R2_mean    R2_std\n",
       "0         0.010000  0.805769  0.000226\n",
       "1         0.231111  0.801951  0.004991\n",
       "2         0.452222  0.792746  0.010574\n",
       "3         0.673333  0.780368  0.016340\n",
       "4         0.894444  0.758016  0.026539\n",
       "5         1.115556  0.734095  0.028777\n",
       "6         1.336667  0.703937  0.047114\n",
       "7         1.557778  0.687908  0.044750\n",
       "8         1.778889  0.648775  0.055222\n",
       "9         2.000000  0.596079  0.083231"
      ]
     },
     "execution_count": 109,
     "metadata": {},
     "output_type": "execute_result"
    }
   ],
   "source": [
    "X = df_2.iloc[:,2:]\n",
    "y = df_2.iloc[:,0:1]\n",
    "m1,n1 = y_test.shape\n",
    "m2,n2 = y_train.shape\n",
    "\n",
    "def OSR2(y_train_noise):\n",
    "    reg = LinearRegression()\n",
    "    reg.fit(X_train,y_train_noise)\n",
    "    y_test_pred = reg.predict(X_test).reshape((m1,n1))\n",
    "    y_train_pred = reg.predict(X_train).reshape((m2,n2))\n",
    "    SSR = np.sum((y_test.to_numpy() - y_test_pred)**2)\n",
    "    train_mean = np.mean(y_train.to_numpy())\n",
    "    SST = np.sum((train_mean - y_test_pred)**2)\n",
    "    OSR2 = 1 - (SSR/SST)\n",
    "    return OSR2\n",
    "\n",
    "mean_energy = y.mean()[0]\n",
    "len_energy = len(y.iloc[0:int(0.70*len(X)),])\n",
    "OSR2_results = []\n",
    "noise_amplitude_list = np.linspace(0.01,2,10)\n",
    "bootstrap_length = 100\n",
    "for noise_amplitude in noise_amplitude_list:\n",
    "    OSR2_current = np.zeros(bootstrap_length)\n",
    "    for bootstrap_it in range(bootstrap_length):\n",
    "        y_train_noise = np.array(y.iloc[0:int(0.70*len(X)),])[:,0] + np.random.normal(0, noise_amplitude*mean_energy,len_energy)\n",
    "        OSR2_current[bootstrap_it] = OSR2(y_train_noise)\n",
    "    OSR2_results += [[noise_amplitude, OSR2_current.mean(), OSR2_current.std()]]\n",
    "df_OSR2_results = pd.DataFrame(OSR2_results, columns = ['noise_amplitude', 'R2_mean', 'R2_std'])\n",
    "df_OSR2_results"
   ]
  },
  {
   "cell_type": "code",
   "execution_count": 110,
   "metadata": {},
   "outputs": [
    {
     "data": {
      "image/png": "[encoded data removed]",
      "text/plain": [
       "<Figure size 432x288 with 1 Axes>"
      ]
     },
     "metadata": {
      "needs_background": "light"
     },
     "output_type": "display_data"
    }
   ],
   "source": [
    "x = df_OSR2_results['noise_amplitude']\n",
    "y = df_OSR2_results['R2_mean']\n",
    "e = df_OSR2_results['R2_std']\n",
    "\n",
    "plt.figure()\n",
    "plt.errorbar(x, y, e, linestyle='None', marker='^')\n",
    "plt.xlabel(r\"Noise amplitude $\\sigma = x*mean$\")\n",
    "plt.ylabel(r\"Out of sample R2\")\n",
    "plt.savefig('figures/R2_bootstrap_linreg.png', dpi = 300)\n",
    "plt.show()"
   ]
  },
  {
   "cell_type": "code",
   "execution_count": 151,
   "metadata": {},
   "outputs": [
    {
     "data": {
      "image/png": "[encoded data removed]",
      "text/plain": [
       "<Figure size 432x288 with 1 Axes>"
      ]
     },
     "metadata": {
      "needs_background": "light"
     },
     "output_type": "display_data"
    }
   ],
   "source": [
    "#coefficients = pd.concat([pd.DataFrame(X_train.columns),pd.DataFrame(np.transpose(reg.coef_))], axis = 1)\n",
    "coefficients = dict(zip(X_train.columns, np.transpose(reg.coef_[0])))\n",
    "c1, c2, c3, c4 = coefficients['hour'], coefficients['hour_sq'], coefficients['hour_cub'], coefficients['hour_fourth']\n",
    "t = np.linspace(0, 23, 200)\n",
    "plt.figure()\n",
    "plt.plot(t, c1*t + c2*t**2 + c3*t**3 + c4*t**4)\n",
    "plt.xlabel(\"Time in hour\")\n",
    "plt.ylabel(\"Polynomial fit of the linear model\")\n",
    "plt.show()"
   ]
  },
  {
   "cell_type": "code",
   "execution_count": 152,
   "metadata": {},
   "outputs": [
    {
     "data": {
      "image/png": "[encoded data removed]",
      "text/plain": [
       "<Figure size 432x288 with 1 Axes>"
      ]
     },
     "metadata": {
      "needs_background": "light"
     },
     "output_type": "display_data"
    }
   ],
   "source": [
    "coef_month = [0]\n",
    "month = ['January', 'February', 'March', 'April', 'May', 'June', 'July', 'August', 'September', 'October', 'November', 'December']\n",
    "for i in range(2,13):\n",
    "    name = 'Month_' + str(i)\n",
    "    coef_month += [coefficients[name]]\n",
    "coef_month = np.array(coef_month)\n",
    "plt.figure()\n",
    "plt.plot(month, coef_month)\n",
    "plt.xticks(rotation=45)\n",
    "plt.show()"
   ]
  },
  {
   "cell_type": "code",
   "execution_count": 153,
   "metadata": {},
   "outputs": [
    {
     "data": {
      "image/png": "[encoded data removed]",
      "text/plain": [
       "<Figure size 432x288 with 1 Axes>"
      ]
     },
     "metadata": {
      "needs_background": "light"
     },
     "output_type": "display_data"
    }
   ],
   "source": [
    "ctemperature1, ctemperature2, ctemperature3 = coefficients['temperature'], coefficients['temperature_sq'], coefficients['temperature_cub']\n",
    "t = np.linspace(-10, 40, 200)\n",
    "plt.figure()\n",
    "plt.plot(t, ctemperature1*t + ctemperature2*t**2 + ctemperature3*t**3)\n",
    "plt.xlabel(\"Temperature in celcius\")\n",
    "plt.ylabel(\"Polynomial fit of the linear model\")\n",
    "plt.show()"
   ]
  },
  {
   "cell_type": "markdown",
   "metadata": {},
   "source": [
    "Cross-Validated Ridge Regression"
   ]
  },
  {
   "cell_type": "code",
   "execution_count": 154,
   "metadata": {},
   "outputs": [],
   "source": [
    "scaler = StandardScaler()\n",
    "scaler.fit(X_train)\n",
    "ridge_train = pd.DataFrame(scaler.transform(X_train))\n",
    "ridge_test = pd.DataFrame(scaler.transform(X_test))"
   ]
  },
  {
   "cell_type": "code",
   "execution_count": 155,
   "metadata": {},
   "outputs": [],
   "source": [
    "tscv = TimeSeriesSplit(n_splits=5)\n",
    "i = 1\n",
    "score = []\n",
    "for tr_index, val_index in tscv.split(ridge_train):\n",
    "    X_tr, X_val = ridge_train.iloc[tr_index,:], ridge_train.iloc[val_index,:]\n",
    "    y_tr, y_val = y_train.iloc[tr_index,:], y_train.iloc[val_index,:]\n",
    "    for penalty in [10,5,2,1,0.1,0.01,0.001,0]:\n",
    "        ridge = Ridge(alpha=penalty)\n",
    "        ridge.fit(X_tr, y_tr)\n",
    "        m,n = y_val.shape\n",
    "        y_val_pred = ridge.predict(X_val).reshape((m,n))\n",
    "        SSR = np.sum((y_val.to_numpy() - y_val_pred)**2)\n",
    "        train_mean = np.mean(y_tr.to_numpy())\n",
    "        SST = np.sum((train_mean - y_val_pred)**2)\n",
    "        OSR2 = 1 - (SSR/SST)\n",
    "        score.append([i,\n",
    "                      penalty,\n",
    "                      OSR2])\n",
    "    i += 1"
   ]
  },
  {
   "cell_type": "code",
   "execution_count": 156,
   "metadata": {},
   "outputs": [
    {
     "name": "stdout",
     "output_type": "stream",
     "text": [
      "   Lambda      OSR2\n",
      "1   0.001  0.707209\n"
     ]
    }
   ],
   "source": [
    "score = pd.DataFrame(score).rename(columns={0: \"Iteration\", 1: \"Lambda\",2:\"OSR2\"})\n",
    "cross_val = score.groupby(['Lambda']).agg({'OSR2':'mean'}).reset_index()\n",
    "print(cross_val[cross_val.OSR2 == cross_val.OSR2.max()])"
   ]
  },
  {
   "cell_type": "code",
   "execution_count": 176,
   "metadata": {},
   "outputs": [
    {
     "name": "stdout",
     "output_type": "stream",
     "text": [
      "IS-R^2: 0.8186186086627556\n",
      "OS-R^2: 0.8057618698237337\n",
      "IS-MAE: 658.6119808833638\n",
      "OS-MAE: 704.1308311039571\n",
      "IS-RMSE: 882.8924257197426\n",
      "OS-RMSE: 938.1354247056337\n"
     ]
    }
   ],
   "source": [
    "ridge_cv = Ridge(alpha=0.001).fit(ridge_train, y_train)\n",
    "m1,n1 = y_test.shape\n",
    "m2,n2 = y_train.shape\n",
    "y_test_pred = ridge_cv.predict(ridge_test).reshape((m1,n1))\n",
    "y_train_pred = ridge_cv.predict(ridge_train).reshape((m2,n2))\n",
    "SSR = np.sum((y_test.to_numpy() - y_test_pred)**2)\n",
    "train_mean = np.mean(y_train.to_numpy())\n",
    "SST = np.sum((train_mean - y_test_pred)**2)\n",
    "OSR2 = 1 - (SSR/SST)\n",
    "print(\"IS-R^2:\",metrics.r2_score(y_train.to_numpy(),y_train_pred))\n",
    "print(\"OS-R^2:\",OSR2)\n",
    "print(\"IS-MAE:\",metrics.mean_absolute_error(y_train,y_train_pred))\n",
    "print(\"OS-MAE:\",metrics.mean_absolute_error(y_test,y_test_pred))\n",
    "print(\"IS-RMSE:\",metrics.mean_squared_error(y_train,y_train_pred)**(1/2))\n",
    "print(\"OS-RMSE:\",metrics.mean_squared_error(y_test,y_test_pred)**(1/2))"
   ]
  },
  {
   "cell_type": "markdown",
   "metadata": {},
   "source": [
    "Cross-Validated CART"
   ]
  },
  {
   "cell_type": "code",
   "execution_count": 158,
   "metadata": {},
   "outputs": [],
   "source": [
    "tscv = TimeSeriesSplit(n_splits=5)\n",
    "i = 1\n",
    "score = []\n",
    "for tr_index, val_index in tscv.split(X_train):\n",
    "    X_tr, X_val = X_train.iloc[tr_index,:], X_train.iloc[val_index,:]\n",
    "    y_tr, y_val = y_train.iloc[tr_index,:], y_train.iloc[val_index,:]\n",
    "    for md in [2,4,6,8,10]:\n",
    "        for mb in [100,150,200]:\n",
    "            for alpha in [100,10,1,0.1]:\n",
    "                cart = DecisionTreeRegressor(\n",
    "                    max_depth=md,\n",
    "                    min_samples_leaf=mb,\n",
    "                    criterion = \"mse\",\n",
    "                    ccp_alpha = alpha)\n",
    "                cart.fit(X_tr, y_tr)\n",
    "                m,n = y_val.shape\n",
    "                y_val_pred = cart.predict(X_val).reshape((m,n))\n",
    "                SSR = np.sum((y_val.to_numpy() - y_val_pred)**2)\n",
    "                train_mean = np.mean(y_tr.to_numpy())\n",
    "                SST = np.sum((train_mean - y_val_pred)**2)\n",
    "                OSR2 = 1 - (SSR/SST)\n",
    "                score.append([i,\n",
    "                            md,\n",
    "                            mb,\n",
    "                            alpha, \n",
    "                            OSR2])\n",
    "    i += 1"
   ]
  },
  {
   "cell_type": "code",
   "execution_count": 159,
   "metadata": {},
   "outputs": [
    {
     "name": "stdout",
     "output_type": "stream",
     "text": [
      "    Depth  Alpha  MinBucket      OSR2\n",
      "48     10    0.1        100  0.513164\n",
      "51     10    1.0        100  0.513164\n",
      "54     10   10.0        100  0.513164\n"
     ]
    }
   ],
   "source": [
    "score = pd.DataFrame(score).rename(columns={0: \"Iteration\", 1: \"Depth\",2:\"MinBucket\", 3:\"Alpha\", 4:\"OSR2\"})\n",
    "cross_val = score.groupby(['Depth','Alpha','MinBucket']).agg({'OSR2':'mean'}).reset_index()\n",
    "print(cross_val[cross_val.OSR2 == cross_val.OSR2.max()])"
   ]
  },
  {
   "cell_type": "code",
   "execution_count": 177,
   "metadata": {},
   "outputs": [
    {
     "name": "stdout",
     "output_type": "stream",
     "text": [
      "IS-R^2: 0.8515663456185867\n",
      "OS-R^2: 0.800125317645711\n",
      "IS-MAE: 546.9237345487588\n",
      "OS-MAE: 686.9588986432983\n",
      "IS-RMSE: 798.6888406018527\n",
      "OS-RMSE: 1005.4444715635977\n"
     ]
    }
   ],
   "source": [
    "cart_cv = DecisionTreeRegressor(max_depth=10,min_samples_leaf=100,ccp_alpha=10).fit(X_train, y_train)\n",
    "m1,n1 = y_test.shape\n",
    "m2,n2 = y_train.shape\n",
    "y_test_pred = cart_cv.predict(X_test).reshape((m1,n1))\n",
    "y_train_pred = cart_cv.predict(X_train).reshape((m2,n2))\n",
    "SSR = np.sum((y_test.to_numpy() - y_test_pred)**2)\n",
    "train_mean = np.mean(y_train.to_numpy())\n",
    "SST = np.sum((train_mean - y_test_pred)**2)\n",
    "OSR2 = 1 - (SSR/SST)\n",
    "print(\"IS-R^2:\",metrics.r2_score(y_train.to_numpy(),y_train_pred))\n",
    "print(\"OS-R^2:\",OSR2)\n",
    "print(\"IS-MAE:\",metrics.mean_absolute_error(y_train,y_train_pred))\n",
    "print(\"OS-MAE:\",metrics.mean_absolute_error(y_test,y_test_pred))\n",
    "print(\"IS-RMSE:\",metrics.mean_squared_error(y_train,y_train_pred)**(1/2))\n",
    "print(\"OS-RMSE:\",metrics.mean_squared_error(y_test,y_test_pred)**(1/2))"
   ]
  },
  {
   "cell_type": "code",
   "execution_count": 161,
   "metadata": {},
   "outputs": [
    {
     "data": {
      "image/png": "[encoded data removed]",
      "text/plain": [
       "<Figure size 1440x432 with 1 Axes>"
      ]
     },
     "metadata": {
      "needs_background": "light"
     },
     "output_type": "display_data"
    }
   ],
   "source": [
    "features = [i for i in X_test.columns]\n",
    "cart_plot = DecisionTreeRegressor(max_depth=3,min_samples_leaf=100,ccp_alpha=10).fit(X_train, y_train)\n",
    "plt.figure(figsize=(20, 6))\n",
    "tree.plot_tree(cart_plot, filled=True,feature_names=features)\n",
    "plt.show()"
   ]
  },
  {
   "cell_type": "markdown",
   "metadata": {},
   "source": [
    "Cross-Validated Gradient Boosted Trees"
   ]
  },
  {
   "cell_type": "code",
   "execution_count": 162,
   "metadata": {},
   "outputs": [],
   "source": [
    "tscv = TimeSeriesSplit(n_splits=5)\n",
    "i = 1\n",
    "score = []\n",
    "for tr_index, val_index in tscv.split(X_train):\n",
    "    X_tr, X_val = X_train.iloc[tr_index,:], X_train.iloc[val_index,:]\n",
    "    y_tr, y_val = y_train.iloc[tr_index,:], y_train.iloc[val_index,:]\n",
    "    for lr in [0.1,0.01,0.001]:\n",
    "        for trees in [50,100,150]:\n",
    "            for md in [3,5,7]:\n",
    "                for features in [\"auto\",\"sqrt\",\"log2\"]:\n",
    "                    gbm = GradientBoostingRegressor(\n",
    "                        learning_rate=lr,\n",
    "                        n_estimators=trees,\n",
    "                        max_depth=md,\n",
    "                        max_features=features)\n",
    "                    gbm.fit(X_tr, np.ravel(y_tr))\n",
    "                    m,n = y_val.shape\n",
    "                    y_val_pred = gbm.predict(X_val).reshape((m,n))\n",
    "                    SSR = np.sum((y_val.to_numpy() - y_val_pred)**2)\n",
    "                    train_mean = np.mean(y_tr.to_numpy())\n",
    "                    SST = np.sum((train_mean - y_val_pred)**2)\n",
    "                    OSR2 = 1 - (SSR/SST)\n",
    "                    score.append([i,\n",
    "                                lr,\n",
    "                                trees,\n",
    "                                md, \n",
    "                                features,\n",
    "                                OSR2])\n",
    "    i += 1"
   ]
  },
  {
   "cell_type": "code",
   "execution_count": 163,
   "metadata": {},
   "outputs": [
    {
     "name": "stdout",
     "output_type": "stream",
     "text": [
      "    LearningRate  Trees  Depth Features    OSR2\n",
      "73           0.1    150      3     log2  0.6819\n"
     ]
    }
   ],
   "source": [
    "score = pd.DataFrame(score).rename(columns={0: \"Iteration\", 1: \"LearningRate\",2:\"Trees\", \n",
    "                                            3:\"Depth\", 4:\"Features\", 5:\"OSR2\"})\n",
    "cross_val = score.groupby(['LearningRate','Trees','Depth','Features']).agg({'OSR2':'mean'}).reset_index()\n",
    "print(cross_val[cross_val.OSR2 == cross_val.OSR2.max()])"
   ]
  },
  {
   "cell_type": "code",
   "execution_count": 178,
   "metadata": {},
   "outputs": [
    {
     "name": "stdout",
     "output_type": "stream",
     "text": [
      "IS-R^2: 0.9496515825270001\n",
      "OS-R^2: 0.8927420029078388\n",
      "IS-MAE: 324.06724447514944\n",
      "OS-MAE: 485.1018481962171\n",
      "IS-RMSE: 465.16211752332026\n",
      "OS-RMSE: 724.9269470055522\n"
     ]
    }
   ],
   "source": [
    "gbm_cv = GradientBoostingRegressor(learning_rate=0.1, n_estimators=150, max_depth=5, \n",
    "                                max_features='sqrt').fit(X_train, np.ravel(y_train))\n",
    "m1,n1 = y_test.shape\n",
    "m2,n2 = y_train.shape\n",
    "y_test_pred = gbm_cv.predict(X_test).reshape((m1,n1))\n",
    "y_train_pred = gbm_cv.predict(X_train).reshape((m2,n2))\n",
    "SSR = np.sum((y_test.to_numpy() - y_test_pred)**2)\n",
    "train_mean = np.mean(y_train.to_numpy())\n",
    "SST = np.sum((train_mean - y_test_pred)**2)\n",
    "OSR2 = 1 - (SSR/SST)\n",
    "print(\"IS-R^2:\",metrics.r2_score(y_train.to_numpy(),y_train_pred))\n",
    "print(\"OS-R^2:\",OSR2)\n",
    "print(\"IS-MAE:\",metrics.mean_absolute_error(y_train,y_train_pred))\n",
    "print(\"OS-MAE:\",metrics.mean_absolute_error(y_test,y_test_pred))\n",
    "print(\"IS-RMSE:\",metrics.mean_squared_error(y_train,y_train_pred)**(1/2))\n",
    "print(\"OS-RMSE:\",metrics.mean_squared_error(y_test,y_test_pred)**(1/2))"
   ]
  },
  {
   "cell_type": "code",
   "execution_count": 108,
   "metadata": {},
   "outputs": [],
   "source": [
    "best_model = GradientBoostingRegressor(learning_rate=0.1, n_estimators=150, max_depth=5, \n",
    "                                max_features='sqrt').fit(X_train, np.ravel(y_train))"
   ]
  },
  {
   "cell_type": "code",
   "execution_count": 171,
   "metadata": {},
   "outputs": [
    {
     "data": {
      "image/png": "[encoded data removed]",
      "text/plain": [
       "<Figure size 864x432 with 2 Axes>"
      ]
     },
     "metadata": {
      "needs_background": "light"
     },
     "output_type": "display_data"
    }
   ],
   "source": [
    "feature_importance = gbm_cv.feature_importances_\n",
    "sorted_idx = np.argsort(feature_importance)[63:69]\n",
    "pos = np.arange(sorted_idx.shape[0]) + .5\n",
    "fig = plt.figure(figsize=(12, 6))\n",
    "plt.subplot(1, 2, 1)\n",
    "plt.barh(pos, feature_importance[sorted_idx], align='center')\n",
    "plt.yticks(pos, np.array(X_train.columns)[sorted_idx])\n",
    "plt.title('Feature Importance (train set)')\n",
    "\n",
    "result = permutation_importance(gbm_cv, X_test, y_test, n_repeats=10,\n",
    "                                random_state=42, n_jobs=2)\n",
    "sorted_idx = result.importances_mean.argsort()[63:69]\n",
    "plt.subplot(1, 2, 2)\n",
    "plt.boxplot(result.importances[sorted_idx].T,\n",
    "            vert=False, labels=np.array(X_test.columns)[sorted_idx])\n",
    "plt.title(\"Permutation Importance (test set)\")\n",
    "fig.tight_layout()\n",
    "plt.show()"
   ]
  },
  {
   "cell_type": "markdown",
   "metadata": {},
   "source": [
    "Cross-Validated Random Forest"
   ]
  },
  {
   "cell_type": "code",
   "execution_count": 169,
   "metadata": {},
   "outputs": [],
   "source": [
    "tscv = TimeSeriesSplit(n_splits=5)\n",
    "i = 1\n",
    "score = []\n",
    "for tr_index, val_index in tscv.split(X_train):\n",
    "    X_tr, X_val = X_train.iloc[tr_index,:], X_train.iloc[val_index,:]\n",
    "    y_tr, y_val = y_train.iloc[tr_index,:], y_train.iloc[val_index,:]\n",
    "    for mb in [100,150,200]:\n",
    "        for trees in [50,100,150]:\n",
    "            for md in [2,4,6,8,10]:\n",
    "                for features in [\"auto\",\"sqrt\",\"log2\"]:\n",
    "                    rf = RandomForestRegressor(\n",
    "                        min_samples_leaf=mb,\n",
    "                        n_estimators=trees,\n",
    "                        max_depth=md,\n",
    "                        max_features=features)\n",
    "                    rf.fit(X_tr, np.ravel(y_tr))\n",
    "                    m,n = y_val.shape\n",
    "                    y_val_pred = rf.predict(X_val).reshape((m,n))\n",
    "                    SSR = np.sum((y_val.to_numpy() - y_val_pred)**2)\n",
    "                    train_mean = np.mean(y_tr.to_numpy())\n",
    "                    SST = np.sum((train_mean - y_val_pred)**2)\n",
    "                    OSR2 = 1 - (SSR/SST)\n",
    "                    score.append([i,\n",
    "                                mb,\n",
    "                                trees,\n",
    "                                md, \n",
    "                                features,\n",
    "                                OSR2])\n",
    "    i += 1"
   ]
  },
  {
   "cell_type": "code",
   "execution_count": 172,
   "metadata": {},
   "outputs": [
    {
     "name": "stdout",
     "output_type": "stream",
     "text": [
      "    MinBucket  Trees  Depth Features      OSR2\n",
      "12        100     50     10     auto  0.472685\n"
     ]
    }
   ],
   "source": [
    "score = pd.DataFrame(score).rename(columns={0: \"Iteration\", 1: \"MinBucket\",2:\"Trees\", \n",
    "                                            3:\"Depth\", 4:\"Features\", 5:\"OSR2\"})\n",
    "cross_val = score.groupby(['MinBucket','Trees','Depth','Features']).agg({'OSR2':'mean'}).reset_index()\n",
    "print(cross_val[cross_val.OSR2 == cross_val.OSR2.max()])"
   ]
  },
  {
   "cell_type": "code",
   "execution_count": 173,
   "metadata": {},
   "outputs": [
    {
     "name": "stdout",
     "output_type": "stream",
     "text": [
      "IS-R^2: 0.857115972853924\n",
      "OS-R^2: 0.8193825172228784\n",
      "IS-MAE: 535.0027625659613\n",
      "OS-MAE: 646.4334430764698\n",
      "IS-RMSE: 783.6159508427008\n",
      "OS-RMSE: 930.3590951086394\n"
     ]
    }
   ],
   "source": [
    "rf_cv = RandomForestRegressor(min_samples_leaf=100, n_estimators=50, max_depth=10, \n",
    "                                max_features='auto').fit(X_train, np.ravel(y_train))\n",
    "m1,n1 = y_test.shape\n",
    "m2,n2 = y_train.shape\n",
    "y_test_pred = rf_cv.predict(X_test).reshape((m1,n1))\n",
    "y_train_pred = rf_cv.predict(X_train).reshape((m2,n2))\n",
    "SSR = np.sum((y_test.to_numpy() - y_test_pred)**2)\n",
    "train_mean = np.mean(y_train.to_numpy())\n",
    "SST = np.sum((train_mean - y_test_pred)**2)\n",
    "OSR2 = 1 - (SSR/SST)\n",
    "print(\"IS-R^2:\",metrics.r2_score(y_train.to_numpy(),y_train_pred))\n",
    "print(\"OS-R^2:\",OSR2)\n",
    "print(\"IS-MAE:\",metrics.mean_absolute_error(y_train,y_train_pred))\n",
    "print(\"OS-MAE:\",metrics.mean_absolute_error(y_test,y_test_pred))\n",
    "print(\"IS-RMSE:\",metrics.mean_squared_error(y_train,y_train_pred)**(1/2))\n",
    "print(\"OS-RMSE:\",metrics.mean_squared_error(y_test,y_test_pred)**(1/2))"
   ]
  },
  {
   "cell_type": "code",
   "execution_count": 174,
   "metadata": {},
   "outputs": [
    {
     "data": {
      "image/png": "[encoded data removed]",
      "text/plain": [
       "<Figure size 864x432 with 2 Axes>"
      ]
     },
     "metadata": {
      "needs_background": "light"
     },
     "output_type": "display_data"
    }
   ],
   "source": [
    "feature_importance = rf_cv.feature_importances_\n",
    "sorted_idx = np.argsort(feature_importance)[63:69]\n",
    "pos = np.arange(sorted_idx.shape[0]) + .5\n",
    "fig = plt.figure(figsize=(12, 6))\n",
    "plt.subplot(1, 2, 1)\n",
    "plt.barh(pos, feature_importance[sorted_idx], align='center')\n",
    "plt.yticks(pos, np.array(X_train.columns)[sorted_idx])\n",
    "plt.title('Feature Importance (train set)')\n",
    "\n",
    "result = permutation_importance(rf_cv, X_test, y_test, n_repeats=10,\n",
    "                                random_state=42, n_jobs=2)\n",
    "sorted_idx = result.importances_mean.argsort()[63:69]\n",
    "plt.subplot(1, 2, 2)\n",
    "plt.boxplot(result.importances[sorted_idx].T,\n",
    "            vert=False, labels=np.array(X_test.columns)[sorted_idx])\n",
    "plt.title(\"Permutation Importance (test set)\")\n",
    "fig.tight_layout()\n",
    "plt.show()"
   ]
  },
  {
   "cell_type": "markdown",
   "metadata": {},
   "source": [
    "### Add Gaussian Noise"
   ]
  },
  {
   "cell_type": "code",
   "execution_count": 86,
   "metadata": {},
   "outputs": [],
   "source": [
    "add_noise = X_train.iloc[:,np.r_[0:5,7:14,17:19]]\n",
    "no_noise = X_train.iloc[:,np.r_[5:7,14:17,19:68]]\n",
    "noise = np.random.normal(0, 0, add_noise.shape)\n",
    "new_signal = add_noise + noise\n",
    "X_train_noise = pd.concat([new_signal,no_noise],axis = 1)"
   ]
  },
  {
   "cell_type": "code",
   "execution_count": 87,
   "metadata": {},
   "outputs": [],
   "source": [
    "noise = np.random.normal(0, 0.1, y_train.shape)\n",
    "y_train_noise = y_train + noise"
   ]
  },
  {
   "cell_type": "markdown",
   "metadata": {},
   "source": [
    "GBM - Noise on Features"
   ]
  },
  {
   "cell_type": "code",
   "execution_count": 88,
   "metadata": {},
   "outputs": [],
   "source": [
    "tscv = TimeSeriesSplit(n_splits=5)\n",
    "i = 1\n",
    "score = []\n",
    "for tr_index, val_index in tscv.split(X_train_noise):\n",
    "    X_tr, X_val = X_train_noise.iloc[tr_index,:], X_train_noise.iloc[val_index,:]\n",
    "    y_tr, y_val = y_train.iloc[tr_index,:], y_train.iloc[val_index,:]\n",
    "    for lr in [0.1,0.01,0.001]:\n",
    "        for trees in [50,100,150]:\n",
    "            for md in [3,5,7]:\n",
    "                for features in [\"auto\",\"sqrt\",\"log2\"]:\n",
    "                    gbm = GradientBoostingRegressor(\n",
    "                        learning_rate=lr,\n",
    "                        n_estimators=trees,\n",
    "                        max_depth=md,\n",
    "                        max_features=features)\n",
    "                    gbm.fit(X_tr, np.ravel(y_tr))\n",
    "                    m,n = y_val.shape\n",
    "                    y_val_pred = gbm.predict(X_val).reshape((m,n))\n",
    "                    SSR = np.sum((y_val.to_numpy() - y_val_pred)**2)\n",
    "                    train_mean = np.mean(y_tr.to_numpy())\n",
    "                    SST = np.sum((train_mean - y_val_pred)**2)\n",
    "                    OSR2 = 1 - (SSR/SST)\n",
    "                    score.append([i,\n",
    "                                lr,\n",
    "                                trees,\n",
    "                                md, \n",
    "                                features,\n",
    "                                OSR2])\n",
    "    i += 1"
   ]
  },
  {
   "cell_type": "code",
   "execution_count": 89,
   "metadata": {},
   "outputs": [
    {
     "name": "stdout",
     "output_type": "stream",
     "text": [
      "    MinBucket  Trees  Depth Features      OSR2\n",
      "77        0.1    150      5     sqrt  0.704941\n"
     ]
    }
   ],
   "source": [
    "score = pd.DataFrame(score).rename(columns={0: \"Iteration\", 1: \"MinBucket\",2:\"Trees\", \n",
    "                                            3:\"Depth\", 4:\"Features\", 5:\"OSR2\"})\n",
    "cross_val = score.groupby(['MinBucket','Trees','Depth','Features']).agg({'OSR2':'mean'}).reset_index()\n",
    "print(cross_val[cross_val.OSR2 == cross_val.OSR2.max()])"
   ]
  },
  {
   "cell_type": "code",
   "execution_count": 91,
   "metadata": {},
   "outputs": [
    {
     "name": "stdout",
     "output_type": "stream",
     "text": [
      "IS-R^2: 0.9475118275504615\n",
      "OS-R^2: -0.7157572751686314\n",
      "IS-MAE: 332.3804849074091\n",
      "OS-MAE: 2081.8992263010364\n",
      "IS-RMSE: 474.9437231136754\n",
      "OS-RMSE: 2471.426990663867\n"
     ]
    }
   ],
   "source": [
    "gbm_cv = GradientBoostingRegressor(learning_rate=0.1, n_estimators=150, max_depth=5, \n",
    "                                max_features='sqrt').fit(X_train_noise, np.ravel(y_train))\n",
    "m1,n1 = y_test.shape\n",
    "m2,n2 = y_train.shape\n",
    "y_test_pred = gbm_cv.predict(X_test).reshape((m1,n1))\n",
    "y_train_pred = gbm_cv.predict(X_train_noise).reshape((m2,n2))\n",
    "SSR = np.sum((y_test.to_numpy() - y_test_pred)**2)\n",
    "train_mean = np.mean(y_train.to_numpy())\n",
    "SST = np.sum((train_mean - y_test_pred)**2)\n",
    "OSR2 = 1 - (SSR/SST)\n",
    "print(\"IS-R^2:\",metrics.r2_score(y_train.to_numpy(),y_train_pred))\n",
    "print(\"OS-R^2:\",OSR2)\n",
    "print(\"IS-MAE:\",metrics.mean_absolute_error(y_train,y_train_pred))\n",
    "print(\"OS-MAE:\",metrics.mean_absolute_error(y_test,y_test_pred))\n",
    "print(\"IS-RMSE:\",metrics.mean_squared_error(y_train,y_train_pred)**(1/2))\n",
    "print(\"OS-RMSE:\",metrics.mean_squared_error(y_test,y_test_pred)**(1/2))"
   ]
  },
  {
   "cell_type": "markdown",
   "metadata": {},
   "source": [
    "GBM - Noise on Labels"
   ]
  },
  {
   "cell_type": "code",
   "execution_count": 92,
   "metadata": {},
   "outputs": [],
   "source": [
    "tscv = TimeSeriesSplit(n_splits=5)\n",
    "i = 1\n",
    "score = []\n",
    "for tr_index, val_index in tscv.split(X_train):\n",
    "    X_tr, X_val = X_train.iloc[tr_index,:], X_train.iloc[val_index,:]\n",
    "    y_tr, y_val = y_train_noise.iloc[tr_index,:], y_train_noise.iloc[val_index,:]\n",
    "    for lr in [0.1,0.01,0.001]:\n",
    "        for trees in [50,100,150]:\n",
    "            for md in [3,5,7]:\n",
    "                for features in [\"auto\",\"sqrt\",\"log2\"]:\n",
    "                    gbm = GradientBoostingRegressor(\n",
    "                        learning_rate=lr,\n",
    "                        n_estimators=trees,\n",
    "                        max_depth=md,\n",
    "                        max_features=features)\n",
    "                    gbm.fit(X_tr, np.ravel(y_tr))\n",
    "                    m,n = y_val.shape\n",
    "                    y_val_pred = gbm.predict(X_val).reshape((m,n))\n",
    "                    SSR = np.sum((y_val.to_numpy() - y_val_pred)**2)\n",
    "                    train_mean = np.mean(y_tr.to_numpy())\n",
    "                    SST = np.sum((train_mean - y_val_pred)**2)\n",
    "                    OSR2 = 1 - (SSR/SST)\n",
    "                    score.append([i,\n",
    "                                lr,\n",
    "                                trees,\n",
    "                                md, \n",
    "                                features,\n",
    "                                OSR2])\n",
    "    i += 1"
   ]
  },
  {
   "cell_type": "code",
   "execution_count": 93,
   "metadata": {},
   "outputs": [
    {
     "name": "stdout",
     "output_type": "stream",
     "text": [
      "    MinBucket  Trees  Depth Features      OSR2\n",
      "75        0.1    150      5     auto  0.686546\n"
     ]
    }
   ],
   "source": [
    "score = pd.DataFrame(score).rename(columns={0: \"Iteration\", 1: \"MinBucket\",2:\"Trees\", \n",
    "                                            3:\"Depth\", 4:\"Features\", 5:\"OSR2\"})\n",
    "cross_val = score.groupby(['MinBucket','Trees','Depth','Features']).agg({'OSR2':'mean'}).reset_index()\n",
    "print(cross_val[cross_val.OSR2 == cross_val.OSR2.max()])"
   ]
  },
  {
   "cell_type": "code",
   "execution_count": 94,
   "metadata": {},
   "outputs": [
    {
     "name": "stdout",
     "output_type": "stream",
     "text": [
      "IS-R^2: 0.9603886689120952\n",
      "OS-R^2: 0.8964988198023947\n",
      "IS-MAE: 291.92848287245937\n",
      "OS-MAE: 472.19400288375107\n",
      "IS-RMSE: 412.5920510703969\n",
      "OS-RMSE: 722.4284804051728\n"
     ]
    }
   ],
   "source": [
    "gbm_cv = GradientBoostingRegressor(learning_rate=0.1, n_estimators=150, max_depth=5, \n",
    "                                max_features='auto').fit(X_train, np.ravel(y_train_noise))\n",
    "m1,n1 = y_test.shape\n",
    "m2,n2 = y_train_noise.shape\n",
    "y_test_pred = gbm_cv.predict(X_test).reshape((m1,n1))\n",
    "y_train_pred = gbm_cv.predict(X_train).reshape((m2,n2))\n",
    "SSR = np.sum((y_test.to_numpy() - y_test_pred)**2)\n",
    "train_mean = np.mean(y_train_noise.to_numpy())\n",
    "SST = np.sum((train_mean - y_test_pred)**2)\n",
    "OSR2 = 1 - (SSR/SST)\n",
    "print(\"IS-R^2:\",metrics.r2_score(y_train_noise.to_numpy(),y_train_pred))\n",
    "print(\"OS-R^2:\",OSR2)\n",
    "print(\"IS-MAE:\",metrics.mean_absolute_error(y_train_noise,y_train_pred))\n",
    "print(\"OS-MAE:\",metrics.mean_absolute_error(y_test,y_test_pred))\n",
    "print(\"IS-RMSE:\",metrics.mean_squared_error(y_train_noise,y_train_pred)**(1/2))\n",
    "print(\"OS-RMSE:\",metrics.mean_squared_error(y_test,y_test_pred)**(1/2))"
   ]
  },
  {
   "cell_type": "markdown",
   "metadata": {},
   "source": [
    "GBM - Noise on Both"
   ]
  },
  {
   "cell_type": "code",
   "execution_count": 95,
   "metadata": {},
   "outputs": [],
   "source": [
    "tscv = TimeSeriesSplit(n_splits=5)\n",
    "i = 1\n",
    "score = []\n",
    "for tr_index, val_index in tscv.split(X_train_noise):\n",
    "    X_tr, X_val = X_train_noise.iloc[tr_index,:], X_train_noise.iloc[val_index,:]\n",
    "    y_tr, y_val = y_train_noise.iloc[tr_index,:], y_train_noise.iloc[val_index,:]\n",
    "    for lr in [0.1,0.01,0.001]:\n",
    "        for trees in [50,100,150]:\n",
    "            for md in [3,5,7]:\n",
    "                for features in [\"auto\",\"sqrt\",\"log2\"]:\n",
    "                    gbm = GradientBoostingRegressor(\n",
    "                        learning_rate=lr,\n",
    "                        n_estimators=trees,\n",
    "                        max_depth=md,\n",
    "                        max_features=features)\n",
    "                    gbm.fit(X_tr, np.ravel(y_tr))\n",
    "                    m,n = y_val.shape\n",
    "                    y_val_pred = gbm.predict(X_val).reshape((m,n))\n",
    "                    SSR = np.sum((y_val.to_numpy() - y_val_pred)**2)\n",
    "                    train_mean = np.mean(y_tr.to_numpy())\n",
    "                    SST = np.sum((train_mean - y_val_pred)**2)\n",
    "                    OSR2 = 1 - (SSR/SST)\n",
    "                    score.append([i,\n",
    "                                lr,\n",
    "                                trees,\n",
    "                                md, \n",
    "                                features,\n",
    "                                OSR2])\n",
    "    i += 1"
   ]
  },
  {
   "cell_type": "code",
   "execution_count": 96,
   "metadata": {},
   "outputs": [
    {
     "name": "stdout",
     "output_type": "stream",
     "text": [
      "    MinBucket  Trees  Depth Features      OSR2\n",
      "75        0.1    150      5     auto  0.682636\n"
     ]
    }
   ],
   "source": [
    "score = pd.DataFrame(score).rename(columns={0: \"Iteration\", 1: \"MinBucket\",2:\"Trees\", \n",
    "                                            3:\"Depth\", 4:\"Features\", 5:\"OSR2\"})\n",
    "cross_val = score.groupby(['MinBucket','Trees','Depth','Features']).agg({'OSR2':'mean'}).reset_index()\n",
    "print(cross_val[cross_val.OSR2 == cross_val.OSR2.max()])"
   ]
  },
  {
   "cell_type": "code",
   "execution_count": 97,
   "metadata": {},
   "outputs": [
    {
     "name": "stdout",
     "output_type": "stream",
     "text": [
      "IS-R^2: 0.9603886689120952\n",
      "OS-R^2: -1.1335624330336365\n",
      "IS-MAE: 291.9284828724593\n",
      "OS-MAE: 1677.1905521963101\n",
      "IS-RMSE: 412.59205107039685\n",
      "OS-RMSE: 2106.156622227013\n"
     ]
    }
   ],
   "source": [
    "gbm_cv = GradientBoostingRegressor(learning_rate=0.1, n_estimators=150, max_depth=5, \n",
    "                                max_features='auto').fit(X_train_noise, np.ravel(y_train_noise))\n",
    "m1,n1 = y_test.shape\n",
    "m2,n2 = y_train_noise.shape\n",
    "y_test_pred = gbm_cv.predict(X_test).reshape((m1,n1))\n",
    "y_train_pred = gbm_cv.predict(X_train_noise).reshape((m2,n2))\n",
    "SSR = np.sum((y_test.to_numpy() - y_test_pred)**2)\n",
    "train_mean = np.mean(y_train_noise.to_numpy())\n",
    "SST = np.sum((train_mean - y_test_pred)**2)\n",
    "OSR2 = 1 - (SSR/SST)\n",
    "print(\"IS-R^2:\",metrics.r2_score(y_train_noise.to_numpy(),y_train_pred))\n",
    "print(\"OS-R^2:\",OSR2)\n",
    "print(\"IS-MAE:\",metrics.mean_absolute_error(y_train_noise,y_train_pred))\n",
    "print(\"OS-MAE:\",metrics.mean_absolute_error(y_test,y_test_pred))\n",
    "print(\"IS-RMSE:\",metrics.mean_squared_error(y_train_noise,y_train_pred)**(1/2))\n",
    "print(\"OS-RMSE:\",metrics.mean_squared_error(y_test,y_test_pred)**(1/2))"
   ]
  },
  {
   "cell_type": "markdown",
   "metadata": {},
   "source": [
    "Pittsburgh"
   ]
  },
  {
   "cell_type": "code",
   "execution_count": 154,
   "metadata": {},
   "outputs": [],
   "source": [
    "df = pd.read_csv(path + 'pitt_df.csv')"
   ]
  },
  {
   "cell_type": "code",
   "execution_count": 155,
   "metadata": {},
   "outputs": [],
   "source": [
    "df_lin = df.copy()\n",
    "df_lin['temperature'] = df_lin['temperature'] - 273.15\n",
    "df_lin['hour_sq'] = df_lin['hour']**2\n",
    "df_lin['hour_cub'] = df_lin['hour']**3\n",
    "df_lin['hour_fourth'] = df_lin['hour']**4\n",
    "df_lin['temperature_sq'] = df_lin['temperature']**2\n",
    "df_lin['temperature_cub'] = df_lin['temperature']**3"
   ]
  },
  {
   "cell_type": "code",
   "execution_count": 156,
   "metadata": {},
   "outputs": [],
   "source": [
    "description_oh = pd.get_dummies(df_lin['description'], drop_first = True)\n",
    "weekday_oh = pd.get_dummies(df_lin['dayofweek'], drop_first = True)\n",
    "month_oh = pd.get_dummies(df_lin['month'], drop_first = True, prefix=\"Month\")\n",
    "df_2 = pd.concat([df_lin,description_oh,weekday_oh,month_oh],axis = 1)\n",
    "df_2 = df_2.drop(['description','dayofweek','month'],axis=1)"
   ]
  },
  {
   "cell_type": "code",
   "execution_count": 162,
   "metadata": {},
   "outputs": [],
   "source": [
    "X = df_2.iloc[:,2:]\n",
    "X['proximity thunderstorm with drizzle'] = 0\n",
    "X['smoke'] = 0\n",
    "X['thunderstorm with drizzle']=0\n",
    "X['thunderstorm with light drizzle']=0\n",
    "X = X[cols]\n",
    "y = df_2.iloc[:,0:1]\n",
    "X_train = X.iloc[0:int(0.70*len(X)),]\n",
    "y_train = y.iloc[0:int(0.70*len(X)),]\n",
    "X_test = X.iloc[int(0.70*len(X)):,]\n",
    "y_test = y.iloc[int(0.70*len(X)):,]"
   ]
  },
  {
   "cell_type": "code",
   "execution_count": 164,
   "metadata": {},
   "outputs": [
    {
     "name": "stdout",
     "output_type": "stream",
     "text": [
      "OS-R^2: 0.0077407830472547845\n",
      "OS-MAE: 8698.277223176998\n",
      "OS-RMSE: 8771.346638471028\n"
     ]
    }
   ],
   "source": [
    "m1,n1 = y.shape\n",
    "y_pred = best_model.predict(X).reshape((m1,n1))\n",
    "SSR = np.sum((y.to_numpy() - y_pred)**2)\n",
    "train_mean = np.mean(y.to_numpy())\n",
    "SST = np.sum((train_mean - y_pred)**2)\n",
    "OSR2 = 1 - (SSR/SST)\n",
    "print(\"OS-R^2:\",OSR2)\n",
    "print(\"OS-MAE:\",metrics.mean_absolute_error(y,y_pred))\n",
    "print(\"OS-RMSE:\",metrics.mean_squared_error(y,y_pred)**(1/2))"
   ]
  },
  {
   "cell_type": "code",
   "execution_count": 165,
   "metadata": {},
   "outputs": [],
   "source": [
    "tscv = TimeSeriesSplit(n_splits=5)\n",
    "i = 1\n",
    "score = []\n",
    "for tr_index, val_index in tscv.split(X_train):\n",
    "    X_tr, X_val = X_train.iloc[tr_index,:], X_train.iloc[val_index,:]\n",
    "    y_tr, y_val = y_train.iloc[tr_index,:], y_train.iloc[val_index,:]\n",
    "    for lr in [0.1,0.01,0.001]:\n",
    "        for trees in [50,100,150]:\n",
    "            for md in [3,5,7]:\n",
    "                for features in [\"auto\",\"sqrt\",\"log2\"]:\n",
    "                    gbm = GradientBoostingRegressor(\n",
    "                        learning_rate=lr,\n",
    "                        n_estimators=trees,\n",
    "                        max_depth=md,\n",
    "                        max_features=features)\n",
    "                    gbm.fit(X_tr, np.ravel(y_tr))\n",
    "                    m,n = y_val.shape\n",
    "                    y_val_pred = gbm.predict(X_val).reshape((m,n))\n",
    "                    SSR = np.sum((y_val.to_numpy() - y_val_pred)**2)\n",
    "                    train_mean = np.mean(y_tr.to_numpy())\n",
    "                    SST = np.sum((train_mean - y_val_pred)**2)\n",
    "                    OSR2 = 1 - (SSR/SST)\n",
    "                    score.append([i,\n",
    "                                lr,\n",
    "                                trees,\n",
    "                                md, \n",
    "                                features,\n",
    "                                OSR2])\n",
    "    i += 1"
   ]
  },
  {
   "cell_type": "code",
   "execution_count": 166,
   "metadata": {},
   "outputs": [
    {
     "name": "stdout",
     "output_type": "stream",
     "text": [
      "    MinBucket  Trees  Depth Features      OSR2\n",
      "75        0.1    150      5     auto  0.777241\n"
     ]
    }
   ],
   "source": [
    "score = pd.DataFrame(score).rename(columns={0: \"Iteration\", 1: \"MinBucket\",2:\"Trees\", \n",
    "                                            3:\"Depth\", 4:\"Features\", 5:\"OSR2\"})\n",
    "cross_val = score.groupby(['MinBucket','Trees','Depth','Features']).agg({'OSR2':'mean'}).reset_index()\n",
    "print(cross_val[cross_val.OSR2 == cross_val.OSR2.max()])"
   ]
  },
  {
   "cell_type": "code",
   "execution_count": 168,
   "metadata": {},
   "outputs": [
    {
     "name": "stdout",
     "output_type": "stream",
     "text": [
      "IS-R^2: 0.9632678289705837\n",
      "OS-R^2: 0.9242715293232688\n",
      "IS-MAE: 40.583480572305724\n",
      "OS-MAE: 59.25225689917018\n",
      "IS-RMSE: 55.019138794203066\n",
      "OS-RMSE: 82.35076204537934\n"
     ]
    }
   ],
   "source": [
    "gbm_cv = GradientBoostingRegressor(learning_rate=0.1, n_estimators=150, max_depth=5, \n",
    "                                max_features='auto').fit(X_train, np.ravel(y_train))\n",
    "m1,n1 = y_test.shape\n",
    "m2,n2 = y_train.shape\n",
    "y_test_pred = gbm_cv.predict(X_test).reshape((m1,n1))\n",
    "y_train_pred = gbm_cv.predict(X_train).reshape((m2,n2))\n",
    "SSR = np.sum((y_test.to_numpy() - y_test_pred)**2)\n",
    "train_mean = np.mean(y_train.to_numpy())\n",
    "SST = np.sum((train_mean - y_test_pred)**2)\n",
    "OSR2 = 1 - (SSR/SST)\n",
    "print(\"IS-R^2:\",metrics.r2_score(y_train.to_numpy(),y_train_pred))\n",
    "print(\"OS-R^2:\",OSR2)\n",
    "print(\"IS-MAE:\",metrics.mean_absolute_error(y_train,y_train_pred))\n",
    "print(\"OS-MAE:\",metrics.mean_absolute_error(y_test,y_test_pred))\n",
    "print(\"IS-RMSE:\",metrics.mean_squared_error(y_train,y_train_pred)**(1/2))\n",
    "print(\"OS-RMSE:\",metrics.mean_squared_error(y_test,y_test_pred)**(1/2))"
   ]
  },
  {
   "cell_type": "code",
   "execution_count": null,
   "metadata": {},
   "outputs": [],
   "source": []
  }
 ],
 "metadata": {
  "kernelspec": {
   "display_name": "Python 3",
   "language": "python",
   "name": "python3"
  },
  "language_info": {
   "codemirror_mode": {
    "name": "ipython",
    "version": 3
   },
   "file_extension": ".py",
   "mimetype": "text/x-python",
   "name": "python",
   "nbconvert_exporter": "python",
   "pygments_lexer": "ipython3",
   "version": "3.9.0"
  },
  "latex_envs": {
   "LaTeX_envs_menu_present": true,
   "autoclose": false,
   "autocomplete": true,
   "bibliofile": "biblio.bib",
   "cite_by": "apalike",
   "current_citInitial": 1,
   "eqLabelWithNumbers": true,
   "eqNumInitial": 1,
   "hotkeys": {
    "equation": "Ctrl-E",
    "itemize": "Ctrl-I"
   },
   "labels_anchors": false,
   "latex_user_defs": false,
   "report_style_numbering": false,
   "user_envs_cfg": false
  }
 },
 "nbformat": 4,
 "nbformat_minor": 4
}
