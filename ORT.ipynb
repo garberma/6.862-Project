{
 "cells": [
  {
   "cell_type": "code",
   "execution_count": 1,
   "metadata": {},
   "outputs": [],
   "source": [
    "using CSV, DataFrames"
   ]
  },
  {
   "cell_type": "code",
   "execution_count": null,
   "metadata": {},
   "outputs": [],
   "source": [
    "X_train = CSV.read(\"/Users/zachgarberman/Desktop/Applied ML/Project Data/Xtrain.csv\",DataFrame);\n",
    "y_train = CSV.read(\"/Users/zachgarberman/Desktop/Applied ML/Project Data/ytrain.csv\",DataFrame);\n",
    "X_test = CSV.read(\"/Users/zachgarberman/Desktop/Applied ML/Project Data/Xtest.csv\",DataFrame);\n",
    "y_test = CSV.read(\"/Users/zachgarberman/Desktop/Applied ML/Project Data/ytest.csv\",DataFrame);"
   ]
  },
  {
   "cell_type": "code",
   "execution_count": null,
   "metadata": {},
   "outputs": [],
   "source": [
    "y_train = y_train[!,1]\n",
    "y_test = y_test[!,1];"
   ]
  },
  {
   "cell_type": "markdown",
   "metadata": {},
   "source": [
    "Optimal Regression Tree"
   ]
  },
  {
   "cell_type": "code",
   "execution_count": null,
   "metadata": {},
   "outputs": [
    {
     "name": "stderr",
     "output_type": "stream",
     "text": [
      "┌ Warning: ProgressMeter by default refresh meters with additional information in IJulia via `IJulia.clear_output`, which clears all outputs in the cell. \n",
      "│  - To prevent this behaviour, do `ProgressMeter.ijulia_behavior(:append)`. \n",
      "│  - To disable this warning message, do `ProgressMeter.ijulia_behavior(:clear)`.\n",
      "└ @ ProgressMeter /Users/iai/builds/InterpretableAI/SystemImage/SysImgBuilder/.julia/packages/ProgressMeter/poEzd/src/ProgressMeter.jl:463\n",
      "\u001b[32mParameter combination...            27%|████▍           |  ETA: 0:31:16\u001b[39m\n",
      "\u001b[32mTraining trees...                   62%|█████████▉      |  ETA: 0:01:05\u001b[39m"
     ]
    }
   ],
   "source": [
    "grid_ORT = IAI.GridSearch(\n",
    "    IAI.OptimalTreeRegressor(\n",
    "        regression_sparsity=0\n",
    "    ),\n",
    "    max_depth=[4, 6, 8, 10],\n",
    "    minbucket=[100,150,200],\n",
    "    cp=[0.001,0.01,0.1,1]\n",
    "    \n",
    ")\n",
    "IAI.fit!(grid_ORT, X_train, y_train)"
   ]
  },
  {
   "cell_type": "code",
   "execution_count": null,
   "metadata": {},
   "outputs": [],
   "source": [
    "IAI.get_best_params(grid_ORT)"
   ]
  },
  {
   "cell_type": "code",
   "execution_count": null,
   "metadata": {},
   "outputs": [],
   "source": [
    "ISR2 = IAI.score(grid_ORT, X1_train, Y1_train)\n",
    "OSR2 = IAI.score(grid_ORT, X1_test, Y1_test)\n",
    "ISR2,OSR2"
   ]
  },
  {
   "cell_type": "markdown",
   "metadata": {},
   "source": [
    "ORT lin"
   ]
  },
  {
   "cell_type": "code",
   "execution_count": 6,
   "metadata": {},
   "outputs": [
    {
     "name": "stderr",
     "output_type": "stream",
     "text": [
      "┌ Warning: ProgressMeter by default refresh meters with additional information in IJulia via `IJulia.clear_output`, which clears all outputs in the cell. \n",
      "│  - To prevent this behaviour, do `ProgressMeter.ijulia_behavior(:append)`. \n",
      "│  - To disable this warning message, do `ProgressMeter.ijulia_behavior(:clear)`.\n",
      "└ @ ProgressMeter /Users/iai/builds/InterpretableAI/SystemImage/SysImgBuilder/.julia/packages/ProgressMeter/poEzd/src/ProgressMeter.jl:463\n",
      "\u001b[32mRefitting with best parameters...  100%|████████████████| Time: 0:01:52\u001b[39m\n",
      "\u001b[A4m  Parameters:  regression_lambda=>0.0001 cp=>0.5\u001b[39m\n",
      "\n",
      "\n"
     ]
    },
    {
     "data": {
      "text/plain": [
       "0.0001"
      ]
     },
     "execution_count": 6,
     "metadata": {},
     "output_type": "execute_result"
    }
   ],
   "source": [
    "grid = IAI.GridSearch(\n",
    "    IAI.OptimalTreeRegressor(\n",
    "        max_depth=0,\n",
    "        regression_sparsity=:all,\n",
    "    ),\n",
    "    regression_lambda=[0.0001, 0.001, 0.01, 0.1],\n",
    ")\n",
    "IAI.fit!(grid, X_train, y_train)\n",
    "starting_lambda = IAI.get_best_params(grid)[:regression_lambda]"
   ]
  },
  {
   "cell_type": "code",
   "execution_count": null,
   "metadata": {},
   "outputs": [],
   "source": [
    "ort_lin = IAI.OptimalTreeRegressor(\n",
    "        regression_sparsity=:all,\n",
    "        regression_lambda=starting_lambda,\n",
    "        max_depth=10,\n",
    "        minbucket=50,\n",
    "        cp=0.0001\n",
    "    )\n",
    "IAI.fit!(ort_lin, X_train, y_train)"
   ]
  },
  {
   "cell_type": "code",
   "execution_count": null,
   "metadata": {},
   "outputs": [],
   "source": [
    "train_pred = IAI.predict(ort_lin, X_train)\n",
    "test_pred = IAI.predict(ort_lin, X_test);"
   ]
  },
  {
   "cell_type": "code",
   "execution_count": null,
   "metadata": {},
   "outputs": [],
   "source": [
    "ISR2 = IAI.score(ort_lin, X1_train, Y1_train)\n",
    "OSR2 = IAI.score(ort_lin, X1_test, Y1_test)\n",
    "ISR2,OSR2"
   ]
  }
 ],
 "metadata": {
  "kernelspec": {
   "display_name": "Julia 1.5.4",
   "language": "julia",
   "name": "julia-1.5"
  },
  "language_info": {
   "file_extension": ".jl",
   "mimetype": "application/julia",
   "name": "julia",
   "version": "1.5.4"
  }
 },
 "nbformat": 4,
 "nbformat_minor": 4
}
