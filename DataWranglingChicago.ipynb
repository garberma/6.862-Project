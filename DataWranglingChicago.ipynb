{
 "cells": [
  {
   "cell_type": "code",
   "execution_count": 2,
   "metadata": {},
   "outputs": [],
   "source": [
    "import pandas as pd\n",
    "import numpy as np\n",
    "import datetime as dt"
   ]
  },
  {
   "cell_type": "markdown",
   "metadata": {},
   "source": [
    "Chicago"
   ]
  },
  {
   "cell_type": "code",
   "execution_count": 3,
   "metadata": {},
   "outputs": [],
   "source": [
    "path = \"/Users/zachgarberman/Desktop/Applied ML/Project Data/\"\n",
    "#path = \"/Users/pierrebarral/Desktop/Applied ML/Project Data/\"\n",
    "chicago_energy_df = pd.read_csv(path + 'Energy Data/COMED_hourly.csv')\n",
    "humidity_df = pd.read_csv(path + 'Weather Data/humidity.csv')\n",
    "pressure_df = pd.read_csv(path + 'Weather Data/pressure.csv')\n",
    "temperature_df = pd.read_csv(path + 'Weather Data/temperature.csv')\n",
    "description_df = pd.read_csv(path + 'Weather Data/weather_description.csv')\n",
    "wind_direction_df = pd.read_csv(path + 'Weather Data/wind_direction.csv')\n",
    "wind_speed_df = pd.read_csv(path + 'Weather Data/wind_speed.csv')"
   ]
  },
  {
   "cell_type": "code",
   "execution_count": 6,
   "metadata": {},
   "outputs": [],
   "source": [
    "humidity_df = humidity_df[[\"datetime\",\"Chicago\"]].rename(columns={\"Chicago\":\"humidity\"})\n",
    "pressure_df = pressure_df[[\"datetime\",\"Chicago\"]].rename(columns={\"Chicago\":\"pressure\"})\n",
    "temperature_df = temperature_df[[\"datetime\",\"Chicago\"]].rename(columns={\"Chicago\":\"temperature\"})\n",
    "description_df = description_df[[\"datetime\",\"Chicago\"]].rename(columns={\"Chicago\":\"description\"})\n",
    "wind_direction_df = wind_direction_df[[\"datetime\",\"Chicago\"]].rename(columns={\"Chicago\":\"wind_direction\"})\n",
    "wind_speed_df = wind_speed_df[[\"datetime\",\"Chicago\"]].rename(columns={\"Chicago\":\"wind_speed\"})"
   ]
  },
  {
   "cell_type": "code",
   "execution_count": 7,
   "metadata": {},
   "outputs": [],
   "source": [
    "weather_df = humidity_df.merge(pressure_df,how='inner',on='datetime')\n",
    "weather_df = weather_df.merge(temperature_df,how='inner',on='datetime')\n",
    "weather_df = weather_df.merge(description_df,how='inner',on='datetime')\n",
    "weather_df = weather_df.merge(wind_direction_df,how='inner',on='datetime')\n",
    "weather_df = weather_df.merge(wind_speed_df,how='inner',on='datetime')"
   ]
  },
  {
   "cell_type": "code",
   "execution_count": 8,
   "metadata": {},
   "outputs": [],
   "source": [
    "chicago_energy_df[\"Datetime\"] = pd.DataFrame(pd.to_datetime(chicago_energy_df[\"Datetime\"]))\n",
    "weather_df[\"datetime\"] = pd.DataFrame(pd.to_datetime(weather_df[\"datetime\"]))"
   ]
  },
  {
   "cell_type": "code",
   "execution_count": 9,
   "metadata": {},
   "outputs": [],
   "source": [
    "chicago_df = chicago_energy_df.merge(weather_df,how='inner',left_on='Datetime',right_on='datetime')\n",
    "chicago_df = chicago_df.drop(['Datetime'],axis=1)"
   ]
  },
  {
   "cell_type": "code",
   "execution_count": 10,
   "metadata": {},
   "outputs": [],
   "source": [
    "chicago_df[\"year\"] = chicago_df[\"datetime\"].dt.year\n",
    "chicago_df[\"month\"] = chicago_df[\"datetime\"].dt.month\n",
    "chicago_df[\"dayofweek\"] = chicago_df[\"datetime\"].dt.day_name()\n",
    "chicago_df[\"date\"] = chicago_df[\"datetime\"].dt.date\n",
    "chicago_df[\"hour\"] = chicago_df[\"datetime\"].dt.hour"
   ]
  },
  {
   "cell_type": "code",
   "execution_count": 11,
   "metadata": {
    "scrolled": false
   },
   "outputs": [],
   "source": [
    "daily_consumption = chicago_df.groupby(['date']).agg({'COMED_MW':'sum'})\n",
    "daily_consumption = pd.concat([daily_consumption.shift(1), daily_consumption.shift(2),daily_consumption.shift(3),\n",
    "                        daily_consumption.shift(4),daily_consumption.shift(5),daily_consumption.shift(6),\n",
    "                        daily_consumption.shift(7)],axis=1)\n",
    "daily_consumption.columns = ['Lag1', 'Lag2', 'Lag3','Lag4','Lag5','Lag6','Lag7',]\n",
    "daily_consumption = daily_consumption.reset_index()\n",
    "daily_consumption[\"date\"] = daily_consumption[\"date\"].astype(str)"
   ]
  },
  {
   "cell_type": "code",
   "execution_count": 12,
   "metadata": {},
   "outputs": [],
   "source": [
    "chicago_df[\"date\"] = chicago_df[\"date\"].astype(str)\n",
    "chicago_energy_weather = pd.merge(chicago_df,daily_consumption,how='left',\n",
    "                      left_on='date', right_on='date')\n",
    "chicago_energy_weather = chicago_energy_weather.drop(\"date\",axis=1)\n",
    "chicago_energy_weather = chicago_energy_weather.sort_values(by=['datetime']).dropna()"
   ]
  },
  {
   "cell_type": "code",
   "execution_count": 13,
   "metadata": {},
   "outputs": [],
   "source": [
    "chicago_energy_weather.to_csv(r'/Users/zachgarberman/Desktop/chicago_df.csv', index = False)\n",
    "#chicago_energy_weather.to_csv(r'/Users/pierrebarral/Desktop/chicago_df.csv', index = False)"
   ]
  },
  {
   "cell_type": "markdown",
   "metadata": {},
   "source": [
    "Pittsburgh"
   ]
  },
  {
   "cell_type": "code",
   "execution_count": 8,
   "metadata": {},
   "outputs": [],
   "source": [
    "path = \"/Users/zachgarberman/Desktop/Applied ML/Project Data/\"\n",
    "#path = \"/Users/pierrebarral/Desktop/Applied ML/Project Data/\"\n",
    "pitt_energy_df = pd.read_csv(path + 'Energy Data/DUQ_hourly.csv')\n",
    "humidity_df = pd.read_csv(path + 'Weather Data/humidity.csv')\n",
    "pressure_df = pd.read_csv(path + 'Weather Data/pressure.csv')\n",
    "temperature_df = pd.read_csv(path + 'Weather Data/temperature.csv')\n",
    "description_df = pd.read_csv(path + 'Weather Data/weather_description.csv')\n",
    "wind_direction_df = pd.read_csv(path + 'Weather Data/wind_direction.csv')\n",
    "wind_speed_df = pd.read_csv(path + 'Weather Data/wind_speed.csv')"
   ]
  },
  {
   "cell_type": "code",
   "execution_count": 11,
   "metadata": {},
   "outputs": [],
   "source": [
    "humidity_df = humidity_df[[\"datetime\",\"Pittsburgh\"]].rename(columns={\"Pittsburgh\":\"humidity\"})\n",
    "pressure_df = pressure_df[[\"datetime\",\"Pittsburgh\"]].rename(columns={\"Pittsburgh\":\"pressure\"})\n",
    "temperature_df = temperature_df[[\"datetime\",\"Pittsburgh\"]].rename(columns={\"Pittsburgh\":\"temperature\"})\n",
    "description_df = description_df[[\"datetime\",\"Pittsburgh\"]].rename(columns={\"Pittsburgh\":\"description\"})\n",
    "wind_direction_df = wind_direction_df[[\"datetime\",\"Pittsburgh\"]].rename(columns={\"Pittsburgh\":\"wind_direction\"})\n",
    "wind_speed_df = wind_speed_df[[\"datetime\",\"Pittsburgh\"]].rename(columns={\"Pittsburgh\":\"wind_speed\"})"
   ]
  },
  {
   "cell_type": "code",
   "execution_count": 12,
   "metadata": {},
   "outputs": [],
   "source": [
    "weather_df = humidity_df.merge(pressure_df,how='inner',on='datetime')\n",
    "weather_df = weather_df.merge(temperature_df,how='inner',on='datetime')\n",
    "weather_df = weather_df.merge(description_df,how='inner',on='datetime')\n",
    "weather_df = weather_df.merge(wind_direction_df,how='inner',on='datetime')\n",
    "weather_df = weather_df.merge(wind_speed_df,how='inner',on='datetime')"
   ]
  },
  {
   "cell_type": "code",
   "execution_count": 13,
   "metadata": {},
   "outputs": [],
   "source": [
    "pitt_energy_df[\"Datetime\"] = pd.DataFrame(pd.to_datetime(pitt_energy_df[\"Datetime\"]))\n",
    "weather_df[\"datetime\"] = pd.DataFrame(pd.to_datetime(weather_df[\"datetime\"]))"
   ]
  },
  {
   "cell_type": "code",
   "execution_count": 14,
   "metadata": {},
   "outputs": [],
   "source": [
    "pitt_df = pitt_energy_df.merge(weather_df,how='inner',left_on='Datetime',right_on='datetime')\n",
    "pitt_df = pitt_df.drop(['Datetime'],axis=1)"
   ]
  },
  {
   "cell_type": "code",
   "execution_count": 15,
   "metadata": {},
   "outputs": [],
   "source": [
    "pitt_df[\"year\"] = pitt_df[\"datetime\"].dt.year\n",
    "pitt_df[\"month\"] = pitt_df[\"datetime\"].dt.month\n",
    "pitt_df[\"dayofweek\"] = pitt_df[\"datetime\"].dt.day_name()\n",
    "pitt_df[\"date\"] = pitt_df[\"datetime\"].dt.date\n",
    "pitt_df[\"hour\"] = pitt_df[\"datetime\"].dt.hour"
   ]
  },
  {
   "cell_type": "code",
   "execution_count": 17,
   "metadata": {},
   "outputs": [],
   "source": [
    "daily_consumption = pitt_df.groupby(['date']).agg({'DUQ_MW':'sum'})\n",
    "daily_consumption = pd.concat([daily_consumption.shift(1), daily_consumption.shift(2),daily_consumption.shift(3),\n",
    "                        daily_consumption.shift(4),daily_consumption.shift(5),daily_consumption.shift(6),\n",
    "                        daily_consumption.shift(7)],axis=1)\n",
    "daily_consumption.columns = ['Lag1', 'Lag2', 'Lag3','Lag4','Lag5','Lag6','Lag7',]\n",
    "daily_consumption = daily_consumption.reset_index()\n",
    "daily_consumption[\"date\"] = daily_consumption[\"date\"].astype(str)"
   ]
  },
  {
   "cell_type": "code",
   "execution_count": 18,
   "metadata": {},
   "outputs": [],
   "source": [
    "pitt_df[\"date\"] = pitt_df[\"date\"].astype(str)\n",
    "pitt_energy_weather = pd.merge(pitt_df,daily_consumption,how='left',\n",
    "                      left_on='date', right_on='date')\n",
    "pitt_energy_weather = pitt_energy_weather.drop(\"date\",axis=1)\n",
    "pitt_energy_weather = pitt_energy_weather.sort_values(by=['datetime']).dropna()"
   ]
  },
  {
   "cell_type": "code",
   "execution_count": 19,
   "metadata": {},
   "outputs": [],
   "source": [
    "pitt_energy_weather.to_csv(r'/Users/zachgarberman/Desktop/Applied ML/Project Data/pitt_df.csv', index = False)\n",
    "#chicago_energy_weather.to_csv(r'/Users/pierrebarral/Desktop/chicago_df.csv', index = False)"
   ]
  },
  {
   "cell_type": "code",
   "execution_count": null,
   "metadata": {},
   "outputs": [],
   "source": []
  }
 ],
 "metadata": {
  "kernelspec": {
   "display_name": "Python 3",
   "language": "python",
   "name": "python3"
  },
  "language_info": {
   "codemirror_mode": {
    "name": "ipython",
    "version": 3
   },
   "file_extension": ".py",
   "mimetype": "text/x-python",
   "name": "python",
   "nbconvert_exporter": "python",
   "pygments_lexer": "ipython3",
   "version": "3.9.0"
  },
  "latex_envs": {
   "LaTeX_envs_menu_present": true,
   "autoclose": false,
   "autocomplete": true,
   "bibliofile": "biblio.bib",
   "cite_by": "apalike",
   "current_citInitial": 1,
   "eqLabelWithNumbers": true,
   "eqNumInitial": 1,
   "hotkeys": {
    "equation": "Ctrl-E",
    "itemize": "Ctrl-I"
   },
   "labels_anchors": false,
   "latex_user_defs": false,
   "report_style_numbering": false,
   "user_envs_cfg": false
  }
 },
 "nbformat": 4,
 "nbformat_minor": 4
}
