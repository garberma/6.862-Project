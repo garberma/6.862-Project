{
 "cells": [
  {
   "cell_type": "code",
   "execution_count": 1,
   "metadata": {},
   "outputs": [],
   "source": [
    "import pandas as pd\n",
    "import numpy as np\n",
    "import datetime as dt"
   ]
  },
  {
   "cell_type": "markdown",
   "metadata": {},
   "source": [
    "Chicago"
   ]
  },
  {
   "cell_type": "code",
   "execution_count": 3,
   "metadata": {},
   "outputs": [
    {
     "ename": "FileNotFoundError",
     "evalue": "[Errno 2] No such file or directory: '/Users/pierre/Documents/Scolaire/MIT/Machine Learning/data/Energy Data/COMED_hourly.csv'",
     "output_type": "error",
     "traceback": [
      "\u001b[0;31m---------------------------------------------------------------------------\u001b[0m",
      "\u001b[0;31mFileNotFoundError\u001b[0m                         Traceback (most recent call last)",
      "\u001b[0;32m<ipython-input-3-b13517c1d43d>\u001b[0m in \u001b[0;36m<module>\u001b[0;34m\u001b[0m\n\u001b[1;32m      1\u001b[0m \u001b[0;31m#path = \"/Users/zachgarberman/Desktop/Applied ML/Project Data/\"\u001b[0m\u001b[0;34m\u001b[0m\u001b[0;34m\u001b[0m\u001b[0;34m\u001b[0m\u001b[0m\n\u001b[1;32m      2\u001b[0m \u001b[0mpath\u001b[0m \u001b[0;34m=\u001b[0m \u001b[0;34m\"/Users/pierre/Documents/Scolaire/MIT/Machine Learning/data/\"\u001b[0m\u001b[0;34m\u001b[0m\u001b[0;34m\u001b[0m\u001b[0m\n\u001b[0;32m----> 3\u001b[0;31m \u001b[0mchicago_energy_df\u001b[0m \u001b[0;34m=\u001b[0m \u001b[0mpd\u001b[0m\u001b[0;34m.\u001b[0m\u001b[0mread_csv\u001b[0m\u001b[0;34m(\u001b[0m\u001b[0mpath\u001b[0m \u001b[0;34m+\u001b[0m \u001b[0;34m'Energy Data/COMED_hourly.csv'\u001b[0m\u001b[0;34m)\u001b[0m\u001b[0;34m\u001b[0m\u001b[0;34m\u001b[0m\u001b[0m\n\u001b[0m\u001b[1;32m      4\u001b[0m \u001b[0mhumidity_df\u001b[0m \u001b[0;34m=\u001b[0m \u001b[0mpd\u001b[0m\u001b[0;34m.\u001b[0m\u001b[0mread_csv\u001b[0m\u001b[0;34m(\u001b[0m\u001b[0mpath\u001b[0m \u001b[0;34m+\u001b[0m \u001b[0;34m'Weather Data/humidity.csv'\u001b[0m\u001b[0;34m)\u001b[0m\u001b[0;34m\u001b[0m\u001b[0;34m\u001b[0m\u001b[0m\n\u001b[1;32m      5\u001b[0m \u001b[0mpressure_df\u001b[0m \u001b[0;34m=\u001b[0m \u001b[0mpd\u001b[0m\u001b[0;34m.\u001b[0m\u001b[0mread_csv\u001b[0m\u001b[0;34m(\u001b[0m\u001b[0mpath\u001b[0m \u001b[0;34m+\u001b[0m \u001b[0;34m'Weather Data/pressure.csv'\u001b[0m\u001b[0;34m)\u001b[0m\u001b[0;34m\u001b[0m\u001b[0;34m\u001b[0m\u001b[0m\n",
      "\u001b[0;32m/usr/local/lib/python3.9/site-packages/pandas/io/parsers.py\u001b[0m in \u001b[0;36mread_csv\u001b[0;34m(filepath_or_buffer, sep, delimiter, header, names, index_col, usecols, squeeze, prefix, mangle_dupe_cols, dtype, engine, converters, true_values, false_values, skipinitialspace, skiprows, skipfooter, nrows, na_values, keep_default_na, na_filter, verbose, skip_blank_lines, parse_dates, infer_datetime_format, keep_date_col, date_parser, dayfirst, cache_dates, iterator, chunksize, compression, thousands, decimal, lineterminator, quotechar, quoting, doublequote, escapechar, comment, encoding, dialect, error_bad_lines, warn_bad_lines, delim_whitespace, low_memory, memory_map, float_precision, storage_options)\u001b[0m\n\u001b[1;32m    603\u001b[0m     \u001b[0mkwds\u001b[0m\u001b[0;34m.\u001b[0m\u001b[0mupdate\u001b[0m\u001b[0;34m(\u001b[0m\u001b[0mkwds_defaults\u001b[0m\u001b[0;34m)\u001b[0m\u001b[0;34m\u001b[0m\u001b[0;34m\u001b[0m\u001b[0m\n\u001b[1;32m    604\u001b[0m \u001b[0;34m\u001b[0m\u001b[0m\n\u001b[0;32m--> 605\u001b[0;31m     \u001b[0;32mreturn\u001b[0m \u001b[0m_read\u001b[0m\u001b[0;34m(\u001b[0m\u001b[0mfilepath_or_buffer\u001b[0m\u001b[0;34m,\u001b[0m \u001b[0mkwds\u001b[0m\u001b[0;34m)\u001b[0m\u001b[0;34m\u001b[0m\u001b[0;34m\u001b[0m\u001b[0m\n\u001b[0m\u001b[1;32m    606\u001b[0m \u001b[0;34m\u001b[0m\u001b[0m\n\u001b[1;32m    607\u001b[0m \u001b[0;34m\u001b[0m\u001b[0m\n",
      "\u001b[0;32m/usr/local/lib/python3.9/site-packages/pandas/io/parsers.py\u001b[0m in \u001b[0;36m_read\u001b[0;34m(filepath_or_buffer, kwds)\u001b[0m\n\u001b[1;32m    455\u001b[0m \u001b[0;34m\u001b[0m\u001b[0m\n\u001b[1;32m    456\u001b[0m     \u001b[0;31m# Create the parser.\u001b[0m\u001b[0;34m\u001b[0m\u001b[0;34m\u001b[0m\u001b[0;34m\u001b[0m\u001b[0m\n\u001b[0;32m--> 457\u001b[0;31m     \u001b[0mparser\u001b[0m \u001b[0;34m=\u001b[0m \u001b[0mTextFileReader\u001b[0m\u001b[0;34m(\u001b[0m\u001b[0mfilepath_or_buffer\u001b[0m\u001b[0;34m,\u001b[0m \u001b[0;34m**\u001b[0m\u001b[0mkwds\u001b[0m\u001b[0;34m)\u001b[0m\u001b[0;34m\u001b[0m\u001b[0;34m\u001b[0m\u001b[0m\n\u001b[0m\u001b[1;32m    458\u001b[0m \u001b[0;34m\u001b[0m\u001b[0m\n\u001b[1;32m    459\u001b[0m     \u001b[0;32mif\u001b[0m \u001b[0mchunksize\u001b[0m \u001b[0;32mor\u001b[0m \u001b[0miterator\u001b[0m\u001b[0;34m:\u001b[0m\u001b[0;34m\u001b[0m\u001b[0;34m\u001b[0m\u001b[0m\n",
      "\u001b[0;32m/usr/local/lib/python3.9/site-packages/pandas/io/parsers.py\u001b[0m in \u001b[0;36m__init__\u001b[0;34m(self, f, engine, **kwds)\u001b[0m\n\u001b[1;32m    812\u001b[0m             \u001b[0mself\u001b[0m\u001b[0;34m.\u001b[0m\u001b[0moptions\u001b[0m\u001b[0;34m[\u001b[0m\u001b[0;34m\"has_index_names\"\u001b[0m\u001b[0;34m]\u001b[0m \u001b[0;34m=\u001b[0m \u001b[0mkwds\u001b[0m\u001b[0;34m[\u001b[0m\u001b[0;34m\"has_index_names\"\u001b[0m\u001b[0;34m]\u001b[0m\u001b[0;34m\u001b[0m\u001b[0;34m\u001b[0m\u001b[0m\n\u001b[1;32m    813\u001b[0m \u001b[0;34m\u001b[0m\u001b[0m\n\u001b[0;32m--> 814\u001b[0;31m         \u001b[0mself\u001b[0m\u001b[0;34m.\u001b[0m\u001b[0m_engine\u001b[0m \u001b[0;34m=\u001b[0m \u001b[0mself\u001b[0m\u001b[0;34m.\u001b[0m\u001b[0m_make_engine\u001b[0m\u001b[0;34m(\u001b[0m\u001b[0mself\u001b[0m\u001b[0;34m.\u001b[0m\u001b[0mengine\u001b[0m\u001b[0;34m)\u001b[0m\u001b[0;34m\u001b[0m\u001b[0;34m\u001b[0m\u001b[0m\n\u001b[0m\u001b[1;32m    815\u001b[0m \u001b[0;34m\u001b[0m\u001b[0m\n\u001b[1;32m    816\u001b[0m     \u001b[0;32mdef\u001b[0m \u001b[0mclose\u001b[0m\u001b[0;34m(\u001b[0m\u001b[0mself\u001b[0m\u001b[0;34m)\u001b[0m\u001b[0;34m:\u001b[0m\u001b[0;34m\u001b[0m\u001b[0;34m\u001b[0m\u001b[0m\n",
      "\u001b[0;32m/usr/local/lib/python3.9/site-packages/pandas/io/parsers.py\u001b[0m in \u001b[0;36m_make_engine\u001b[0;34m(self, engine)\u001b[0m\n\u001b[1;32m   1043\u001b[0m             )\n\u001b[1;32m   1044\u001b[0m         \u001b[0;31m# error: Too many arguments for \"ParserBase\"\u001b[0m\u001b[0;34m\u001b[0m\u001b[0;34m\u001b[0m\u001b[0;34m\u001b[0m\u001b[0m\n\u001b[0;32m-> 1045\u001b[0;31m         \u001b[0;32mreturn\u001b[0m \u001b[0mmapping\u001b[0m\u001b[0;34m[\u001b[0m\u001b[0mengine\u001b[0m\u001b[0;34m]\u001b[0m\u001b[0;34m(\u001b[0m\u001b[0mself\u001b[0m\u001b[0;34m.\u001b[0m\u001b[0mf\u001b[0m\u001b[0;34m,\u001b[0m \u001b[0;34m**\u001b[0m\u001b[0mself\u001b[0m\u001b[0;34m.\u001b[0m\u001b[0moptions\u001b[0m\u001b[0;34m)\u001b[0m  \u001b[0;31m# type: ignore[call-arg]\u001b[0m\u001b[0;34m\u001b[0m\u001b[0;34m\u001b[0m\u001b[0m\n\u001b[0m\u001b[1;32m   1046\u001b[0m \u001b[0;34m\u001b[0m\u001b[0m\n\u001b[1;32m   1047\u001b[0m     \u001b[0;32mdef\u001b[0m \u001b[0m_failover_to_python\u001b[0m\u001b[0;34m(\u001b[0m\u001b[0mself\u001b[0m\u001b[0;34m)\u001b[0m\u001b[0;34m:\u001b[0m\u001b[0;34m\u001b[0m\u001b[0;34m\u001b[0m\u001b[0m\n",
      "\u001b[0;32m/usr/local/lib/python3.9/site-packages/pandas/io/parsers.py\u001b[0m in \u001b[0;36m__init__\u001b[0;34m(self, src, **kwds)\u001b[0m\n\u001b[1;32m   1860\u001b[0m \u001b[0;34m\u001b[0m\u001b[0m\n\u001b[1;32m   1861\u001b[0m         \u001b[0;31m# open handles\u001b[0m\u001b[0;34m\u001b[0m\u001b[0;34m\u001b[0m\u001b[0;34m\u001b[0m\u001b[0m\n\u001b[0;32m-> 1862\u001b[0;31m         \u001b[0mself\u001b[0m\u001b[0;34m.\u001b[0m\u001b[0m_open_handles\u001b[0m\u001b[0;34m(\u001b[0m\u001b[0msrc\u001b[0m\u001b[0;34m,\u001b[0m \u001b[0mkwds\u001b[0m\u001b[0;34m)\u001b[0m\u001b[0;34m\u001b[0m\u001b[0;34m\u001b[0m\u001b[0m\n\u001b[0m\u001b[1;32m   1863\u001b[0m         \u001b[0;32massert\u001b[0m \u001b[0mself\u001b[0m\u001b[0;34m.\u001b[0m\u001b[0mhandles\u001b[0m \u001b[0;32mis\u001b[0m \u001b[0;32mnot\u001b[0m \u001b[0;32mNone\u001b[0m\u001b[0;34m\u001b[0m\u001b[0;34m\u001b[0m\u001b[0m\n\u001b[1;32m   1864\u001b[0m         \u001b[0;32mfor\u001b[0m \u001b[0mkey\u001b[0m \u001b[0;32min\u001b[0m \u001b[0;34m(\u001b[0m\u001b[0;34m\"storage_options\"\u001b[0m\u001b[0;34m,\u001b[0m \u001b[0;34m\"encoding\"\u001b[0m\u001b[0;34m,\u001b[0m \u001b[0;34m\"memory_map\"\u001b[0m\u001b[0;34m,\u001b[0m \u001b[0;34m\"compression\"\u001b[0m\u001b[0;34m)\u001b[0m\u001b[0;34m:\u001b[0m\u001b[0;34m\u001b[0m\u001b[0;34m\u001b[0m\u001b[0m\n",
      "\u001b[0;32m/usr/local/lib/python3.9/site-packages/pandas/io/parsers.py\u001b[0m in \u001b[0;36m_open_handles\u001b[0;34m(self, src, kwds)\u001b[0m\n\u001b[1;32m   1355\u001b[0m         \u001b[0mLet\u001b[0m \u001b[0mthe\u001b[0m \u001b[0mreaders\u001b[0m \u001b[0mopen\u001b[0m \u001b[0mIOHanldes\u001b[0m \u001b[0mafter\u001b[0m \u001b[0mthey\u001b[0m \u001b[0mare\u001b[0m \u001b[0mdone\u001b[0m \u001b[0;32mwith\u001b[0m \u001b[0mtheir\u001b[0m \u001b[0mpotential\u001b[0m \u001b[0mraises\u001b[0m\u001b[0;34m.\u001b[0m\u001b[0;34m\u001b[0m\u001b[0;34m\u001b[0m\u001b[0m\n\u001b[1;32m   1356\u001b[0m         \"\"\"\n\u001b[0;32m-> 1357\u001b[0;31m         self.handles = get_handle(\n\u001b[0m\u001b[1;32m   1358\u001b[0m             \u001b[0msrc\u001b[0m\u001b[0;34m,\u001b[0m\u001b[0;34m\u001b[0m\u001b[0;34m\u001b[0m\u001b[0m\n\u001b[1;32m   1359\u001b[0m             \u001b[0;34m\"r\"\u001b[0m\u001b[0;34m,\u001b[0m\u001b[0;34m\u001b[0m\u001b[0;34m\u001b[0m\u001b[0m\n",
      "\u001b[0;32m/usr/local/lib/python3.9/site-packages/pandas/io/common.py\u001b[0m in \u001b[0;36mget_handle\u001b[0;34m(path_or_buf, mode, encoding, compression, memory_map, is_text, errors, storage_options)\u001b[0m\n\u001b[1;32m    637\u001b[0m         \u001b[0;32mif\u001b[0m \u001b[0mioargs\u001b[0m\u001b[0;34m.\u001b[0m\u001b[0mencoding\u001b[0m \u001b[0;32mand\u001b[0m \u001b[0;34m\"b\"\u001b[0m \u001b[0;32mnot\u001b[0m \u001b[0;32min\u001b[0m \u001b[0mioargs\u001b[0m\u001b[0;34m.\u001b[0m\u001b[0mmode\u001b[0m\u001b[0;34m:\u001b[0m\u001b[0;34m\u001b[0m\u001b[0;34m\u001b[0m\u001b[0m\n\u001b[1;32m    638\u001b[0m             \u001b[0;31m# Encoding\u001b[0m\u001b[0;34m\u001b[0m\u001b[0;34m\u001b[0m\u001b[0;34m\u001b[0m\u001b[0m\n\u001b[0;32m--> 639\u001b[0;31m             handle = open(\n\u001b[0m\u001b[1;32m    640\u001b[0m                 \u001b[0mhandle\u001b[0m\u001b[0;34m,\u001b[0m\u001b[0;34m\u001b[0m\u001b[0;34m\u001b[0m\u001b[0m\n\u001b[1;32m    641\u001b[0m                 \u001b[0mioargs\u001b[0m\u001b[0;34m.\u001b[0m\u001b[0mmode\u001b[0m\u001b[0;34m,\u001b[0m\u001b[0;34m\u001b[0m\u001b[0;34m\u001b[0m\u001b[0m\n",
      "\u001b[0;31mFileNotFoundError\u001b[0m: [Errno 2] No such file or directory: '/Users/pierre/Documents/Scolaire/MIT/Machine Learning/data/Energy Data/COMED_hourly.csv'"
     ]
    }
   ],
   "source": [
    "#path = \"/Users/zachgarberman/Desktop/Applied ML/Project Data/\"\n",
    "path = \"/Users/pierre/Documents/Scolaire/MIT/Machine Learning/data/\"\n",
    "chicago_energy_df = pd.read_csv(path + 'Energy Data/COMED_hourly.csv')\n",
    "humidity_df = pd.read_csv(path + 'Weather Data/humidity.csv')\n",
    "pressure_df = pd.read_csv(path + 'Weather Data/pressure.csv')\n",
    "temperature_df = pd.read_csv(path + 'Weather Data/temperature.csv')\n",
    "description_df = pd.read_csv(path + 'Weather Data/weather_description.csv')\n",
    "wind_direction_df = pd.read_csv(path + 'Weather Data/wind_direction.csv')\n",
    "wind_speed_df = pd.read_csv(path + 'Weather Data/wind_speed.csv')"
   ]
  },
  {
   "cell_type": "code",
   "execution_count": 6,
   "metadata": {},
   "outputs": [],
   "source": [
    "humidity_df = humidity_df[[\"datetime\",\"Chicago\"]].rename(columns={\"Chicago\":\"humidity\"})\n",
    "pressure_df = pressure_df[[\"datetime\",\"Chicago\"]].rename(columns={\"Chicago\":\"pressure\"})\n",
    "temperature_df = temperature_df[[\"datetime\",\"Chicago\"]].rename(columns={\"Chicago\":\"temperature\"})\n",
    "description_df = description_df[[\"datetime\",\"Chicago\"]].rename(columns={\"Chicago\":\"description\"})\n",
    "wind_direction_df = wind_direction_df[[\"datetime\",\"Chicago\"]].rename(columns={\"Chicago\":\"wind_direction\"})\n",
    "wind_speed_df = wind_speed_df[[\"datetime\",\"Chicago\"]].rename(columns={\"Chicago\":\"wind_speed\"})"
   ]
  },
  {
   "cell_type": "code",
   "execution_count": 7,
   "metadata": {},
   "outputs": [],
   "source": [
    "weather_df = humidity_df.merge(pressure_df,how='inner',on='datetime')\n",
    "weather_df = weather_df.merge(temperature_df,how='inner',on='datetime')\n",
    "weather_df = weather_df.merge(description_df,how='inner',on='datetime')\n",
    "weather_df = weather_df.merge(wind_direction_df,how='inner',on='datetime')\n",
    "weather_df = weather_df.merge(wind_speed_df,how='inner',on='datetime')"
   ]
  },
  {
   "cell_type": "code",
   "execution_count": 8,
   "metadata": {},
   "outputs": [],
   "source": [
    "chicago_energy_df[\"Datetime\"] = pd.DataFrame(pd.to_datetime(chicago_energy_df[\"Datetime\"]))\n",
    "weather_df[\"datetime\"] = pd.DataFrame(pd.to_datetime(weather_df[\"datetime\"]))"
   ]
  },
  {
   "cell_type": "code",
   "execution_count": 9,
   "metadata": {},
   "outputs": [],
   "source": [
    "chicago_df = chicago_energy_df.merge(weather_df,how='inner',left_on='Datetime',right_on='datetime')\n",
    "chicago_df = chicago_df.drop(['Datetime'],axis=1)"
   ]
  },
  {
   "cell_type": "code",
   "execution_count": 10,
   "metadata": {},
   "outputs": [],
   "source": [
    "chicago_df[\"year\"] = chicago_df[\"datetime\"].dt.year\n",
    "chicago_df[\"month\"] = chicago_df[\"datetime\"].dt.month\n",
    "chicago_df[\"dayofweek\"] = chicago_df[\"datetime\"].dt.day_name()\n",
    "chicago_df[\"date\"] = chicago_df[\"datetime\"].dt.date\n",
    "chicago_df[\"hour\"] = chicago_df[\"datetime\"].dt.hour"
   ]
  },
  {
   "cell_type": "code",
   "execution_count": 11,
   "metadata": {
    "scrolled": false
   },
   "outputs": [],
   "source": [
    "daily_consumption = chicago_df.groupby(['date']).agg({'COMED_MW':'sum'})\n",
    "daily_consumption = pd.concat([daily_consumption.shift(1), daily_consumption.shift(2),daily_consumption.shift(3),\n",
    "                        daily_consumption.shift(4),daily_consumption.shift(5),daily_consumption.shift(6),\n",
    "                        daily_consumption.shift(7)],axis=1)\n",
    "daily_consumption.columns = ['Lag1', 'Lag2', 'Lag3','Lag4','Lag5','Lag6','Lag7',]\n",
    "daily_consumption = daily_consumption.reset_index()\n",
    "daily_consumption[\"date\"] = daily_consumption[\"date\"].astype(str)"
   ]
  },
  {
   "cell_type": "code",
   "execution_count": 12,
   "metadata": {},
   "outputs": [],
   "source": [
    "chicago_df[\"date\"] = chicago_df[\"date\"].astype(str)\n",
    "chicago_energy_weather = pd.merge(chicago_df,daily_consumption,how='left',\n",
    "                      left_on='date', right_on='date')\n",
    "chicago_energy_weather = chicago_energy_weather.drop(\"date\",axis=1)\n",
    "chicago_energy_weather = chicago_energy_weather.sort_values(by=['datetime']).dropna()"
   ]
  },
  {
   "cell_type": "code",
   "execution_count": 13,
   "metadata": {},
   "outputs": [],
   "source": [
    "chicago_energy_weather.to_csv(r'/Users/zachgarberman/Desktop/chicago_df.csv', index = False)\n",
    "#chicago_energy_weather.to_csv(r'/Users/pierrebarral/Desktop/chicago_df.csv', index = False)"
   ]
  },
  {
   "cell_type": "markdown",
   "metadata": {},
   "source": [
    "Pittsburgh"
   ]
  },
  {
   "cell_type": "code",
   "execution_count": 8,
   "metadata": {},
   "outputs": [],
   "source": [
    "path = \"/Users/zachgarberman/Desktop/Applied ML/Project Data/\"\n",
    "#path = \"/Users/pierrebarral/Desktop/Applied ML/Project Data/\"\n",
    "pitt_energy_df = pd.read_csv(path + 'Energy Data/DUQ_hourly.csv')\n",
    "humidity_df = pd.read_csv(path + 'Weather Data/humidity.csv')\n",
    "pressure_df = pd.read_csv(path + 'Weather Data/pressure.csv')\n",
    "temperature_df = pd.read_csv(path + 'Weather Data/temperature.csv')\n",
    "description_df = pd.read_csv(path + 'Weather Data/weather_description.csv')\n",
    "wind_direction_df = pd.read_csv(path + 'Weather Data/wind_direction.csv')\n",
    "wind_speed_df = pd.read_csv(path + 'Weather Data/wind_speed.csv')"
   ]
  },
  {
   "cell_type": "code",
   "execution_count": 11,
   "metadata": {},
   "outputs": [],
   "source": [
    "humidity_df = humidity_df[[\"datetime\",\"Pittsburgh\"]].rename(columns={\"Pittsburgh\":\"humidity\"})\n",
    "pressure_df = pressure_df[[\"datetime\",\"Pittsburgh\"]].rename(columns={\"Pittsburgh\":\"pressure\"})\n",
    "temperature_df = temperature_df[[\"datetime\",\"Pittsburgh\"]].rename(columns={\"Pittsburgh\":\"temperature\"})\n",
    "description_df = description_df[[\"datetime\",\"Pittsburgh\"]].rename(columns={\"Pittsburgh\":\"description\"})\n",
    "wind_direction_df = wind_direction_df[[\"datetime\",\"Pittsburgh\"]].rename(columns={\"Pittsburgh\":\"wind_direction\"})\n",
    "wind_speed_df = wind_speed_df[[\"datetime\",\"Pittsburgh\"]].rename(columns={\"Pittsburgh\":\"wind_speed\"})"
   ]
  },
  {
   "cell_type": "code",
   "execution_count": 12,
   "metadata": {},
   "outputs": [],
   "source": [
    "weather_df = humidity_df.merge(pressure_df,how='inner',on='datetime')\n",
    "weather_df = weather_df.merge(temperature_df,how='inner',on='datetime')\n",
    "weather_df = weather_df.merge(description_df,how='inner',on='datetime')\n",
    "weather_df = weather_df.merge(wind_direction_df,how='inner',on='datetime')\n",
    "weather_df = weather_df.merge(wind_speed_df,how='inner',on='datetime')"
   ]
  },
  {
   "cell_type": "code",
   "execution_count": 13,
   "metadata": {},
   "outputs": [],
   "source": [
    "pitt_energy_df[\"Datetime\"] = pd.DataFrame(pd.to_datetime(pitt_energy_df[\"Datetime\"]))\n",
    "weather_df[\"datetime\"] = pd.DataFrame(pd.to_datetime(weather_df[\"datetime\"]))"
   ]
  },
  {
   "cell_type": "code",
   "execution_count": 14,
   "metadata": {},
   "outputs": [],
   "source": [
    "pitt_df = pitt_energy_df.merge(weather_df,how='inner',left_on='Datetime',right_on='datetime')\n",
    "pitt_df = pitt_df.drop(['Datetime'],axis=1)"
   ]
  },
  {
   "cell_type": "code",
   "execution_count": 15,
   "metadata": {},
   "outputs": [],
   "source": [
    "pitt_df[\"year\"] = pitt_df[\"datetime\"].dt.year\n",
    "pitt_df[\"month\"] = pitt_df[\"datetime\"].dt.month\n",
    "pitt_df[\"dayofweek\"] = pitt_df[\"datetime\"].dt.day_name()\n",
    "pitt_df[\"date\"] = pitt_df[\"datetime\"].dt.date\n",
    "pitt_df[\"hour\"] = pitt_df[\"datetime\"].dt.hour"
   ]
  },
  {
   "cell_type": "code",
   "execution_count": 17,
   "metadata": {},
   "outputs": [],
   "source": [
    "daily_consumption = pitt_df.groupby(['date']).agg({'DUQ_MW':'sum'})\n",
    "daily_consumption = pd.concat([daily_consumption.shift(1), daily_consumption.shift(2),daily_consumption.shift(3),\n",
    "                        daily_consumption.shift(4),daily_consumption.shift(5),daily_consumption.shift(6),\n",
    "                        daily_consumption.shift(7)],axis=1)\n",
    "daily_consumption.columns = ['Lag1', 'Lag2', 'Lag3','Lag4','Lag5','Lag6','Lag7',]\n",
    "daily_consumption = daily_consumption.reset_index()\n",
    "daily_consumption[\"date\"] = daily_consumption[\"date\"].astype(str)"
   ]
  },
  {
   "cell_type": "code",
   "execution_count": 18,
   "metadata": {},
   "outputs": [],
   "source": [
    "pitt_df[\"date\"] = pitt_df[\"date\"].astype(str)\n",
    "pitt_energy_weather = pd.merge(pitt_df,daily_consumption,how='left',\n",
    "                      left_on='date', right_on='date')\n",
    "pitt_energy_weather = pitt_energy_weather.drop(\"date\",axis=1)\n",
    "pitt_energy_weather = pitt_energy_weather.sort_values(by=['datetime']).dropna()"
   ]
  },
  {
   "cell_type": "code",
   "execution_count": 19,
   "metadata": {},
   "outputs": [],
   "source": [
    "pitt_energy_weather.to_csv(r'/Users/zachgarberman/Desktop/Applied ML/Project Data/pitt_df.csv', index = False)\n",
    "#chicago_energy_weather.to_csv(r'/Users/pierrebarral/Desktop/chicago_df.csv', index = False)"
   ]
  },
  {
   "cell_type": "code",
   "execution_count": null,
   "metadata": {},
   "outputs": [],
   "source": []
  }
 ],
 "metadata": {
  "kernelspec": {
   "display_name": "Python 3",
   "language": "python",
   "name": "python3"
  },
  "language_info": {
   "codemirror_mode": {
    "name": "ipython",
    "version": 3
   },
   "file_extension": ".py",
   "mimetype": "text/x-python",
   "name": "python",
   "nbconvert_exporter": "python",
   "pygments_lexer": "ipython3",
   "version": "3.9.0"
  },
  "latex_envs": {
   "LaTeX_envs_menu_present": true,
   "autoclose": false,
   "autocomplete": true,
   "bibliofile": "biblio.bib",
   "cite_by": "apalike",
   "current_citInitial": 1,
   "eqLabelWithNumbers": true,
   "eqNumInitial": 1,
   "hotkeys": {
    "equation": "Ctrl-E",
    "itemize": "Ctrl-I"
   },
   "labels_anchors": false,
   "latex_user_defs": false,
   "report_style_numbering": false,
   "user_envs_cfg": false
  }
 },
 "nbformat": 4,
 "nbformat_minor": 4
}
